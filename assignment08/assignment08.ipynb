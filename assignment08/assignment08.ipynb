{
  "nbformat": 4,
  "nbformat_minor": 0,
  "metadata": {
    "colab": {
      "name": "assignment08.ipynb",
      "provenance": [],
      "collapsed_sections": [],
      "authorship_tag": "ABX9TyMl8rxuPvqUnZoR93pTDotD",
      "include_colab_link": true
    },
    "kernelspec": {
      "name": "python3",
      "display_name": "Python 3"
    },
    "accelerator": "GPU"
  },
  "cells": [
    {
      "cell_type": "markdown",
      "metadata": {
        "id": "view-in-github",
        "colab_type": "text"
      },
      "source": [
        "<a href=\"https://colab.research.google.com/github/trachtok/dspracticum2020_data/blob/main/assignment08/assignment08.ipynb\" target=\"_parent\"><img src=\"https://colab.research.google.com/assets/colab-badge.svg\" alt=\"Open In Colab\"/></a>"
      ]
    },
    {
      "cell_type": "markdown",
      "metadata": {
        "id": "OHJOGoapQ0tx"
      },
      "source": [
        "# Classification of genomic sequences\n",
        "*Kája Trachtová, Michaela Kecskésová, Martin Špilar, Dagmar Al Tukmachi*\n",
        "\n",
        "+ the goal of this assignment was to train NN classifier over several classes of DNA sequences and beat a simple benchmark\n",
        "+ input is G-quadruplexes data: https://github.com/simecek/dspracticum2020/tree/master/lecture_08/assignment/g4\n",
        "+ how to do embedding inspired by https://www.tensorflow.org/tutorials/keras/text_classification"
      ]
    },
    {
      "cell_type": "markdown",
      "metadata": {
        "id": "z6co9RYibA9o"
      },
      "source": [
        "# Load libraries"
      ]
    },
    {
      "cell_type": "code",
      "metadata": {
        "id": "ixypWD6hQzul",
        "colab": {
          "base_uri": "https://localhost:8080/"
        },
        "outputId": "94374e96-d6c8-4c06-8009-b6e0818c8d0b"
      },
      "source": [
        "!pip install biopython"
      ],
      "execution_count": 1,
      "outputs": [
        {
          "output_type": "stream",
          "text": [
            "Collecting biopython\n",
            "\u001b[?25l  Downloading https://files.pythonhosted.org/packages/76/02/8b606c4aa92ff61b5eda71d23b499ab1de57d5e818be33f77b01a6f435a8/biopython-1.78-cp36-cp36m-manylinux1_x86_64.whl (2.3MB)\n",
            "\u001b[K     |████████████████████████████████| 2.3MB 13.9MB/s \n",
            "\u001b[?25hRequirement already satisfied: numpy in /usr/local/lib/python3.6/dist-packages (from biopython) (1.18.5)\n",
            "Installing collected packages: biopython\n",
            "Successfully installed biopython-1.78\n"
          ],
          "name": "stdout"
        }
      ]
    },
    {
      "cell_type": "code",
      "metadata": {
        "id": "qkjeri08BtLg"
      },
      "source": [
        "import urllib.request\n",
        "from pathlib import Path\n",
        "from Bio import SeqIO\n",
        "import numpy as np\n",
        "import gzip\n",
        "import matplotlib.pyplot as plt\n",
        "\n",
        "import tensorflow as tf\n",
        "from tensorflow import keras\n",
        "from tensorflow.keras.layers.experimental.preprocessing import TextVectorization"
      ],
      "execution_count": 2,
      "outputs": []
    },
    {
      "cell_type": "markdown",
      "metadata": {
        "id": "4oIYHKV5B0ZQ"
      },
      "source": [
        "## Reshaping data from FASTA to txt\n",
        "+ data are stored in folders train & valid in FASTA format -> first its neccessary to extract only sequences"
      ]
    },
    {
      "cell_type": "code",
      "metadata": {
        "id": "UtyogPmKBu-w"
      },
      "source": [
        "classes = ['notpresent', 'present']\n",
        "sets = ['train', 'valid']\n",
        "\n",
        "for c in classes:\n",
        "    for s in sets:\n",
        "        urllib.request.urlretrieve(f\"https://github.com/simecek/dspracticum2020/raw/master/lecture_08/assignment/g4/g4_{c}_{s}.fa.gz\", f\"g4_{c}_{s}.fa.gz\")\n",
        "\n",
        "for c in classes:\n",
        "    for s in sets:\n",
        "        Path(f\"data/{s}/{c}\").mkdir(parents=True, exist_ok=True)\n",
        "\n",
        "for c in classes:\n",
        "    for s in sets:\n",
        "        with gzip.open(f\"g4_{c}_{s}.fa.gz\", \"rt\") as handle:\n",
        "            for record in SeqIO.parse(handle, \"fasta\"):\n",
        "                id = record.id\n",
        "                with open(f\"data/{s}/{c}/{id}.txt\", \"w\") as fw:\n",
        "                    fw.writelines([\" \".join(str(record.seq))])\n"
      ],
      "execution_count": 20,
      "outputs": []
    },
    {
      "cell_type": "markdown",
      "metadata": {
        "id": "GCdQ9v_TCJTZ"
      },
      "source": [
        "## Reading input data\n",
        "+ read training and validation datasets"
      ]
    },
    {
      "cell_type": "code",
      "metadata": {
        "colab": {
          "base_uri": "https://localhost:8080/"
        },
        "id": "WNCedpigCK-K",
        "outputId": "92faaf6f-8354-476a-855b-0625e70af7cf"
      },
      "source": [
        "batch_size = 128\n",
        "\n",
        "raw_train_ds = tf.keras.preprocessing.text_dataset_from_directory(\n",
        "    'data/train/',\n",
        "    batch_size=batch_size,\n",
        "    class_names=classes)"
      ],
      "execution_count": 21,
      "outputs": [
        {
          "output_type": "stream",
          "text": [
            "Found 210000 files belonging to 2 classes.\n"
          ],
          "name": "stdout"
        }
      ]
    },
    {
      "cell_type": "code",
      "metadata": {
        "colab": {
          "base_uri": "https://localhost:8080/"
        },
        "id": "uo3kdedFG7Ru",
        "outputId": "8f37bef8-851a-4fa6-9648-e475c9ca03be"
      },
      "source": [
        "# Look at some example sequences\n",
        "for seq_batch, label_batch in raw_train_ds.take(1):\n",
        "  for i in range(3):\n",
        "    print(\"Sequence\", seq_batch.numpy()[i])\n",
        "    print(\"Label\", label_batch.numpy()[i])"
      ],
      "execution_count": 22,
      "outputs": [
        {
          "output_type": "stream",
          "text": [
            "Sequence b'G C T A A T G A G T G A G T G A C A A A C C C A G G A G T C C A A C T T T G G A G T C T C C A A C C C C T C A A G C C C T C T G C T T T T C T G C C C T T T T T G T C A T T A T T C A A G A T G C T T C A C T G G G A A G G G G A G A G G G G G G A A G A G G G G G A G A A G A A A A G C G T A A T G G A A A C C A C A T G G T A T T G G T G G G G G C C A C T C A A G A A T A G T G C T T C A C G G T T A C A'\n",
            "Label 1\n",
            "Sequence b'N N N N T A C T C G A T T C A T T C C A G G T C G T T C T G G T C A G T C G T C C G C C C G T C C G A G G T G T A G G A C T G T A A G G G C G G A G G G G A G G T C C C T A A A A G G T G G T A G A G T G A G A C C T T G A G A C A G A G G T T T G G T G T T C G A C T G T A G T G T G T C C C T C A G T G A C C T G C G G G G G A T C C T T T A N N N N N N N N N N N N N N N N N N N N N N N N N N N N N N N'\n",
            "Label 1\n",
            "Sequence b'N N N N N N N N N N N N N N N N N N N N N N N N N N N N N N N N N N N N N N N N N N T T A A G C A G A A A G A A C A A C A T A T A G G C T G G G T G C G G T G G C T C A C G C C T G T A A T T C C A G C C C T T T G G G A G G C T G A G G T G G G C A G A T C A C G A G N N N N N N N N N N N N N N N N N N N N N N N N N N N N N N N N N N N N N N N N N N N N N N N N N N N N N N N N N N N N N N N N N N N N'\n",
            "Label 0\n"
          ],
          "name": "stdout"
        }
      ]
    },
    {
      "cell_type": "code",
      "metadata": {
        "colab": {
          "base_uri": "https://localhost:8080/"
        },
        "id": "HGDXnUOpG6h_",
        "outputId": "0df23802-d237-4942-bfba-04fd6ce9ca79"
      },
      "source": [
        "# See labels\n",
        "print(\"Label 0 corresponds to\", raw_train_ds.class_names[0])\n",
        "print(\"Label 1 corresponds to\", raw_train_ds.class_names[1])"
      ],
      "execution_count": 24,
      "outputs": [
        {
          "output_type": "stream",
          "text": [
            "Label 0 corresponds to notpresent\n",
            "Label 1 corresponds to present\n"
          ],
          "name": "stdout"
        }
      ]
    },
    {
      "cell_type": "code",
      "metadata": {
        "colab": {
          "base_uri": "https://localhost:8080/"
        },
        "id": "fopXneJoCQ8-",
        "outputId": "5784eaed-44d6-40f1-b3a0-9eeda5cc4851"
      },
      "source": [
        "raw_valid_ds = tf.keras.preprocessing.text_dataset_from_directory(\n",
        "    'data/valid/',\n",
        "    batch_size=batch_size,\n",
        "    class_names=classes)"
      ],
      "execution_count": 25,
      "outputs": [
        {
          "output_type": "stream",
          "text": [
            "Found 90000 files belonging to 2 classes.\n"
          ],
          "name": "stdout"
        }
      ]
    },
    {
      "cell_type": "markdown",
      "metadata": {
        "id": "zHM1_6SVbmOO"
      },
      "source": [
        "# Vectorization"
      ]
    },
    {
      "cell_type": "code",
      "metadata": {
        "id": "XjAlPn-MCgSv"
      },
      "source": [
        "vectorize_layer = TextVectorization(output_mode='int')\n",
        "\n",
        "train_text = raw_train_ds.map(lambda x, y: x)\n",
        "vectorize_layer.adapt(train_text)\n",
        "# vectorize_layer.set_vocabulary(vocab=np.asarray(['a', 'c', 't', 'g', 'n'])) -> if one-hot encoding instead of embedding is used"
      ],
      "execution_count": 26,
      "outputs": []
    },
    {
      "cell_type": "code",
      "metadata": {
        "id": "PAl8xIY_CiFt"
      },
      "source": [
        "def vectorize_text(text, label):\n",
        "  text = tf.expand_dims(text, -1)\n",
        "  return vectorize_layer(text), label\n",
        "  # originally with one-hot encoding: return vectorize_layer(text)-2, label\n",
        "\n",
        "train_ds = raw_train_ds.map(vectorize_text)\n",
        "valid_ds = raw_valid_ds.map(vectorize_text)"
      ],
      "execution_count": 27,
      "outputs": []
    },
    {
      "cell_type": "code",
      "metadata": {
        "colab": {
          "base_uri": "https://localhost:8080/"
        },
        "id": "7U4WV-MuITkk",
        "outputId": "6ca06afe-d52c-4eb0-ced5-09f997764dbf"
      },
      "source": [
        "# retrieve a batch (of 32 sequences and labels) from the dataset\n",
        "seq_batch, label_batch = next(iter(raw_train_ds))\n",
        "first_seq, first_label = seq_batch[0], label_batch[0]\n",
        "print(\"Seq\", first_seq)\n",
        "print(\"Label\", raw_train_ds.class_names[first_label])\n",
        "print(\"Vectorized seq\", vectorize_text(first_seq, first_label))"
      ],
      "execution_count": 28,
      "outputs": [
        {
          "output_type": "stream",
          "text": [
            "Seq tf.Tensor(b'G C A G C G G G G A C T G C A T C T G C A C G G A A T C C T A G T C T G C T C C C A C C T T C C C C C A G T G G C C A T T C T G A G C A G C C A G C A A A G T C C A A G G T T C T A G G A T A C T C G A G T C C C T C C C T C C A G G T A G G G C T G G G A T C G G G G A G G G C A A G A C G A G G G A A G A G G T G A G C A T C C C T G A A T A A T G C A T C C T G G C C T T A A A T G G C T C T T T G T T T', shape=(), dtype=string)\n",
            "Label present\n",
            "Vectorized seq (<tf.Tensor: shape=(1, 200), dtype=int64, numpy=\n",
            "array([[3, 5, 2, 3, 5, 3, 3, 3, 3, 2, 5, 4, 3, 5, 2, 4, 5, 4, 3, 5, 2, 5,\n",
            "        3, 3, 2, 2, 4, 5, 5, 4, 2, 3, 4, 5, 4, 3, 5, 4, 5, 5, 5, 2, 5, 5,\n",
            "        4, 4, 5, 5, 5, 5, 5, 2, 3, 4, 3, 3, 5, 5, 2, 4, 4, 5, 4, 3, 2, 3,\n",
            "        5, 2, 3, 5, 5, 2, 3, 5, 2, 2, 2, 3, 4, 5, 5, 2, 2, 3, 3, 4, 4, 5,\n",
            "        4, 2, 3, 3, 2, 4, 2, 5, 4, 5, 3, 2, 3, 4, 5, 5, 5, 4, 5, 5, 5, 4,\n",
            "        5, 5, 2, 3, 3, 4, 2, 3, 3, 3, 5, 4, 3, 3, 3, 2, 4, 5, 3, 3, 3, 3,\n",
            "        2, 3, 3, 3, 5, 2, 2, 3, 2, 5, 3, 2, 3, 3, 3, 2, 2, 3, 2, 3, 3, 4,\n",
            "        3, 2, 3, 5, 2, 4, 5, 5, 5, 4, 3, 2, 2, 4, 2, 2, 4, 3, 5, 2, 4, 5,\n",
            "        5, 4, 3, 3, 5, 5, 4, 4, 2, 2, 2, 4, 3, 3, 5, 4, 5, 4, 4, 4, 3, 4,\n",
            "        4, 4]])>, <tf.Tensor: shape=(), dtype=int32, numpy=1>)\n"
          ],
          "name": "stdout"
        }
      ]
    },
    {
      "cell_type": "code",
      "metadata": {
        "colab": {
          "base_uri": "https://localhost:8080/"
        },
        "id": "rvuci1GCI4cF",
        "outputId": "59e4d7aa-b903-46a2-a872-ac1c3475c03f"
      },
      "source": [
        "# lookup the token (string) that each integer corresponds to \n",
        "print(\"0 ---> \",vectorize_layer.get_vocabulary()[0]) # why there is no 0? Look below to see what I mean, all numbers have assigned nukleotide but not 0\n",
        "print(\" 1 ---> \",vectorize_layer.get_vocabulary()[1])\n",
        "print(\" 2 ---> \",vectorize_layer.get_vocabulary()[2])\n",
        "print(\" 3 ---> \",vectorize_layer.get_vocabulary()[3])\n",
        "print(\" 4 ---> \",vectorize_layer.get_vocabulary()[4])\n",
        "print(\" 5 ---> \",vectorize_layer.get_vocabulary()[5])\n",
        "print(\" 6 ---> \",vectorize_layer.get_vocabulary()[6])\n",
        "print('Vocabulary size: {}'.format(len(vectorize_layer.get_vocabulary())))"
      ],
      "execution_count": 29,
      "outputs": [
        {
          "output_type": "stream",
          "text": [
            "0 --->  \n",
            " 1 --->  [UNK]\n",
            " 2 --->  a\n",
            " 3 --->  g\n",
            " 4 --->  t\n",
            " 5 --->  c\n",
            " 6 --->  n\n",
            "Vocabulary size: 7\n"
          ],
          "name": "stdout"
        }
      ]
    },
    {
      "cell_type": "markdown",
      "metadata": {
        "id": "ZJlA5ndtCqm9"
      },
      "source": [
        "## Model training"
      ]
    },
    {
      "cell_type": "code",
      "metadata": {
        "id": "fyX1SfxPCr8Y"
      },
      "source": [
        "# one-hot encoding - NOT USED\n",
        "onehot_layer = keras.layers.Lambda(lambda x: tf.one_hot(tf.cast(x,'int64'), 4))\n",
        "\n",
        "model_lstm = tf.keras.Sequential([\n",
        "    onehot_layer,\n",
        "    keras.layers.LSTM(32, return_sequences=True),\n",
        "    keras.layers.LSTM(32, return_sequences=False),\n",
        "    keras.layers.Dense(1, activation=\"sigmoid\")])\n",
        "\n",
        "model_lstm.compile(loss='binary_crossentropy', optimizer='adam', metrics=['accuracy'])  "
      ],
      "execution_count": null,
      "outputs": []
    },
    {
      "cell_type": "code",
      "metadata": {
        "id": "x2clTJEjD3P0"
      },
      "source": [
        "# embedding\n",
        "embedding_dim = 16\n",
        "max_features = 7 # is 7 ok? I set it to the vocabulary size as in the text classification example mentioned at the beggining\n",
        "\n",
        "model_lstm = tf.keras.Sequential([\n",
        "    keras.layers.Embedding(max_features + 1, embedding_dim), # why +1 ?\n",
        "    keras.layers.Dropout(0.2),\n",
        "    keras.layers.LSTM(32, return_sequences=True),\n",
        "    keras.layers.LSTM(32, return_sequences=False),\n",
        "    keras.layers.Dense(1, activation=\"sigmoid\")]) \n",
        "\n",
        "opt = keras.optimizers.Adam(learning_rate=0.02)\n",
        "\n",
        "model_lstm.compile(loss='binary_crossentropy', optimizer='adam', metrics=['accuracy'])  "
      ],
      "execution_count": 30,
      "outputs": []
    },
    {
      "cell_type": "code",
      "metadata": {
        "colab": {
          "base_uri": "https://localhost:8080/"
        },
        "id": "5r6D0i-WC-he",
        "outputId": "0014612c-8fda-4957-da67-0ed00a76fb10"
      },
      "source": [
        "epochs = 10 \n",
        "history = model_lstm.fit(\n",
        "    train_ds,\n",
        "    epochs=epochs,\n",
        "    validation_data = valid_ds)"
      ],
      "execution_count": 31,
      "outputs": [
        {
          "output_type": "stream",
          "text": [
            "Epoch 1/10\n",
            "1641/1641 [==============================] - 125s 76ms/step - loss: 0.5478 - accuracy: 0.6833 - val_loss: 0.2954 - val_accuracy: 0.9079\n",
            "Epoch 2/10\n",
            "1641/1641 [==============================] - 130s 79ms/step - loss: 0.3204 - accuracy: 0.8911 - val_loss: 0.2872 - val_accuracy: 0.9145\n",
            "Epoch 3/10\n",
            "1641/1641 [==============================] - 134s 82ms/step - loss: 0.3501 - accuracy: 0.8643 - val_loss: 0.2291 - val_accuracy: 0.9196\n",
            "Epoch 4/10\n",
            "1641/1641 [==============================] - 137s 83ms/step - loss: 0.2175 - accuracy: 0.9268 - val_loss: 0.3175 - val_accuracy: 0.8888\n",
            "Epoch 5/10\n",
            "1641/1641 [==============================] - 140s 85ms/step - loss: 0.2030 - accuracy: 0.9271 - val_loss: 0.1710 - val_accuracy: 0.9398\n",
            "Epoch 6/10\n",
            "1641/1641 [==============================] - 137s 84ms/step - loss: 0.1699 - accuracy: 0.9395 - val_loss: 0.1662 - val_accuracy: 0.9415\n",
            "Epoch 7/10\n",
            "1641/1641 [==============================] - 138s 84ms/step - loss: 0.1523 - accuracy: 0.9437 - val_loss: 0.1397 - val_accuracy: 0.9480\n",
            "Epoch 8/10\n",
            "1641/1641 [==============================] - 136s 83ms/step - loss: 0.1267 - accuracy: 0.9515 - val_loss: 0.1202 - val_accuracy: 0.9551\n",
            "Epoch 9/10\n",
            "1641/1641 [==============================] - 133s 81ms/step - loss: 0.1129 - accuracy: 0.9576 - val_loss: 0.1063 - val_accuracy: 0.9603\n",
            "Epoch 10/10\n",
            "1641/1641 [==============================] - 134s 81ms/step - loss: 0.1039 - accuracy: 0.9613 - val_loss: 0.0983 - val_accuracy: 0.9636\n"
          ],
          "name": "stdout"
        }
      ]
    },
    {
      "cell_type": "code",
      "metadata": {
        "colab": {
          "base_uri": "https://localhost:8080/",
          "height": 283
        },
        "id": "aVaIiALOoSP_",
        "outputId": "f080f19a-4718-4921-e89e-9abd3b1e8ada"
      },
      "source": [
        "# plot training and validation accuracy\n",
        "def plot_loss(history):\n",
        "  plt.plot(history.history['accuracy'], label='accuracy')\n",
        "  plt.plot(history.history['val_accuracy'], label='val_accuracy')\n",
        "  plt.ylim([0, 1])\n",
        "  plt.xlabel('Epoch')\n",
        "  plt.ylabel('Cross-entropy')\n",
        "  plt.legend()\n",
        "  plt.grid(True)\n",
        "\n",
        "plot_loss(history)"
      ],
      "execution_count": 32,
      "outputs": [
        {
          "output_type": "display_data",
          "data": {
            "image/png": "[encoded data removed]",
            "text/plain": [
              "<Figure size 432x288 with 1 Axes>"
            ]
          },
          "metadata": {
            "tags": [],
            "needs_background": "light"
          }
        }
      ]
    }
  ]
}