{
  "nbformat": 4,
  "nbformat_minor": 0,
  "metadata": {
    "colab": {
      "name": "assignment07.ipynb",
      "provenance": [],
      "collapsed_sections": [],
      "authorship_tag": "ABX9TyPKf1w6+TTyc87mmf/DF8xO",
      "include_colab_link": true
    },
    "kernelspec": {
      "name": "python3",
      "display_name": "Python 3"
    },
    "accelerator": "GPU"
  },
  "cells": [
    {
      "cell_type": "markdown",
      "metadata": {
        "id": "view-in-github",
        "colab_type": "text"
      },
      "source": [
        "<a href=\"https://colab.research.google.com/github/trachtok/dspracticum2020_data/blob/main/assignment07/assignment07.ipynb\" target=\"_parent\"><img src=\"https://colab.research.google.com/assets/colab-badge.svg\" alt=\"Open In Colab\"/></a>"
      ]
    },
    {
      "cell_type": "markdown",
      "metadata": {
        "id": "-87gpi8qGjdk"
      },
      "source": [
        "# Natural language processing - text generator\n",
        "*Kája Trachtová, Michaela Kecskésová, Martin Špilar, Dagmar Al Tukmachi*\n",
        "\n",
        "+ goal of this assignment is to generate text based on some initial text\n",
        "+ done using LSTM"
      ]
    },
    {
      "cell_type": "markdown",
      "metadata": {
        "id": "ERSwQxw6Hh50"
      },
      "source": [
        "## Load libraries ang input data"
      ]
    },
    {
      "cell_type": "code",
      "metadata": {
        "id": "Ttwn9WARGjpA"
      },
      "source": [
        "import tensorflow as tf\n",
        "import numpy as np\n",
        "from tensorflow import keras\n",
        "from tensorflow.keras.preprocessing.text import Tokenizer\n",
        "from tensorflow.keras.preprocessing.sequence import pad_sequences\n",
        "from tensorflow.keras.layers import Embedding, LSTM, Dense, Bidirectional\n",
        "from tensorflow.keras.models import Sequential\n",
        "from tensorflow.keras.optimizers import Adam\n",
        "from google.colab import drive"
      ],
      "execution_count": 1,
      "outputs": []
    },
    {
      "cell_type": "code",
      "metadata": {
        "colab": {
          "base_uri": "https://localhost:8080/"
        },
        "id": "ik0815ZDGnsD",
        "outputId": "21ae5b30-3d64-4701-b137-036f34e1e268"
      },
      "source": [
        "drive.mount('/content/drive')"
      ],
      "execution_count": 2,
      "outputs": [
        {
          "output_type": "stream",
          "text": [
            "Mounted at /content/drive\n"
          ],
          "name": "stdout"
        }
      ]
    },
    {
      "cell_type": "code",
      "metadata": {
        "colab": {
          "base_uri": "https://localhost:8080/"
        },
        "id": "FlK8jfdCNtNE",
        "outputId": "c4946448-4c89-4d0a-ae02-29ff33d17315"
      },
      "source": [
        "path = '/content/drive/My Drive/text_ML2.txt'\n",
        "# !head \"/content/drive/My Drive/text_ML2.txt\""
      ],
      "execution_count": 3,
      "outputs": [
        {
          "output_type": "stream",
          "text": [
            "Dobrý den, dámy a pánové. Vláda dnes schválila žádost Poslanecké sněmovně o vyslovení souhlasu s prodloužením nouzového stavu v souvislosti s epidemií covid-19, a to do 3. prosince 2020.\n",
            "Důvodem je samozřejmě nutnost prodloužit ta přijatá krizová opatření, bez kterých stávající pandemii nemůžeme zvládnout. Takže Sněmovna projedná naši žádost v pátek od 9 hodin a já pevně doufám, že opozice pochopí vážnost situace a tuto žádost schválí. Je to, myslím si, velice důležité. Hlavně pro ochranu zdraví a životů našich spoluobčanů.\n",
            "Dále jsme vzali na vědomí informaci ministra zdravotnictví ohledně antigenních testů. Pan ministr to určitě vysvětlí. Já myslím, že je to velice důležité, abychom začali urychleně toto testování, abychom hlavně ochránili naše spoluobčany nad 65 let, respektive nemocné, zdravotníky, pracovníky v sociálních službách, v domovech seniorů a další. Takže toto je dnes to klíčové, co musíme udělat.\n",
            "Dále vláda vzala na vědomí záměr Ministerstva zdravotnictví realizovat komplexní komunikační kampaň a uvolnili jsme na tuto kampaň 50 milionů korun z vládní rozpočtové rezervy.\n",
            "Poslední bod jsme diskutovali návrh koordinace v rámci Evropské unie ohledně restrikcí pro cestování. Ve čtvrtek v 18:30 proběhne debata premiérů a prezidentů Evropské rady ohledně covid-19. Takže i v rámci těchto návrhů budeme diskutovat, jakým způsobem se k tomu Česká republika postaví.\n",
            "Takže dobrý den, dámy a pánové, vážení spoluobčané, dovolte, abych vás seznámil s výsledkem jednání vlády.\n",
            "Naše vláda přistoupila k dalším zásadním opatřením v boji s pandemií covid-19, a to vzhledem k situaci a dramatickému nárůstu pandemie. Ten nárůst je obrovský a bohužel ta opatření, která jsme udělali v minulých týdnech, nezploštily tu křivku nárůstu. Vypadá to, že zatím nefungují.\n",
            "Máme také obrovský nárůst hospitalizovaných pacientů v nemocnicích. Včera to bylo 353, předevčírem stejný počet. Proto jsme se rozhodli k tomu opatření, za které se samozřejmě všem omlouvám, že to podnikatelům, občanům, zaměstnancům znepříjemní život. Omlouvám se i za to, že jsem v minulosti de facto tuhle možnost vyloučil, protože jsem si neuměl představit, že se to může stát.\n",
            "Bohužel se to stalo a my skutečně musíme v první řadě ochránit životy našich občanů. To není jenom o životech, samozřejmě, nemocných s covidem, to je o ochránění životů všech občanů. Protože ten problém, a proč to děláme, je samozřejmě kapacita lůžek. I když máme robustní zdravotnický systém, jeden z nejrobustnějších v Evropě, a i když jsme za posledních čtrnáct dní navýšili kapacitu lůžek ze 4 800, z toho 1 000 takzvaných JIP lůžek, a dnes už máme 15 500, z toho je 2 500 JIPových lůžek, tak zkrátka při různých predikcích matematických modelů, pokud bychom neudělali tato opatření, tak by náš zdravotní systém zkolaboval kolem 7. až 11. listopadu.\n",
            "Proto jsme k tomu museli přistoupit. Samozřejmě je to narychlo, ale nemáme čas.\n"
          ],
          "name": "stdout"
        }
      ]
    },
    {
      "cell_type": "code",
      "metadata": {
        "colab": {
          "base_uri": "https://localhost:8080/"
        },
        "id": "LDc9V3M_OOOf",
        "outputId": "55e09ba9-7390-4310-88a7-f14eedfc762f"
      },
      "source": [
        "# read input data\n",
        "file = open(path, \"r\")\n",
        "data = file.read()\n",
        "print(data[:50])"
      ],
      "execution_count": 21,
      "outputs": [
        {
          "output_type": "stream",
          "text": [
            "Dobrý den, dámy a pánové. Vláda dnes schválila žád\n"
          ],
          "name": "stdout"
        }
      ]
    },
    {
      "cell_type": "markdown",
      "metadata": {
        "id": "iErr4PqbJl0p"
      },
      "source": [
        "## Data preprocessing"
      ]
    },
    {
      "cell_type": "code",
      "metadata": {
        "colab": {
          "base_uri": "https://localhost:8080/"
        },
        "id": "_LXFz2bkOgb_",
        "outputId": "3b3f7720-12a3-4b5f-a4cf-581313660b74"
      },
      "source": [
        "# if input text contains empty lines -> remove, also get rid of empty space after end of sequences\n",
        "data = data.replace('\\n', \"\").replace('. ', '.')\n",
        "# split text into sequences -> get list of sequences\n",
        "corpus = data.lower().split('.')\n",
        "print(corpus[:5])"
      ],
      "execution_count": 24,
      "outputs": [
        {
          "output_type": "stream",
          "text": [
            "['dobrý den, dámy a pánové', 'vláda dnes schválila žádost poslanecké sněmovně o vyslovení souhlasu s prodloužením nouzového stavu v souvislosti s epidemií covid-19, a to do 3', 'prosince 2020', 'důvodem je samozřejmě nutnost prodloužit ta přijatá krizová opatření, bez kterých stávající pandemii nemůžeme zvládnout', 'takže sněmovna projedná naši žádost v pátek od 9 hodin a já pevně doufám, že opozice pochopí vážnost situace a tuto žádost schválí']\n"
          ],
          "name": "stdout"
        }
      ]
    },
    {
      "cell_type": "markdown",
      "metadata": {
        "id": "fVUkw6lfJn6r"
      },
      "source": [
        "## Tokenization"
      ]
    },
    {
      "cell_type": "code",
      "metadata": {
        "colab": {
          "base_uri": "https://localhost:8080/"
        },
        "id": "7TOnc_ArOs-o",
        "outputId": "e0237b44-a9e8-4124-c6b6-57206ae7e79d"
      },
      "source": [
        "# tokenize words\n",
        "tokenizer = Tokenizer()\n",
        "tokenizer.fit_on_texts(corpus)\n",
        "total_words = len(tokenizer.word_index) + 1\n",
        "print(\"Total words: \", total_words)"
      ],
      "execution_count": 6,
      "outputs": [
        {
          "output_type": "stream",
          "text": [
            "Total words:  2064\n"
          ],
          "name": "stdout"
        }
      ]
    },
    {
      "cell_type": "code",
      "metadata": {
        "id": "0Z4EraDnO2q9",
        "colab": {
          "base_uri": "https://localhost:8080/"
        },
        "outputId": "45b0619e-7047-42ce-a50e-dbbb042a543d"
      },
      "source": [
        "# text to integers\n",
        "input_sequences = []\n",
        "for line in corpus:\n",
        "  token_list = tokenizer.texts_to_sequences([line])[0]\n",
        "  for i in range(1, len(token_list)):\n",
        "    n_gram_sequence = token_list[:i + 1]\n",
        "    input_sequences.append(n_gram_sequence)\n",
        "print(input_sequences[1:10])"
      ],
      "execution_count": 29,
      "outputs": [
        {
          "output_type": "stream",
          "text": [
            "[[70, 64, 108], [70, 64, 108, 1], [70, 64, 108, 1, 109], [17, 33], [17, 33, 440], [17, 33, 440, 192], [17, 33, 440, 192, 317], [17, 33, 440, 192, 317, 441], [17, 33, 440, 192, 317, 441, 9]]\n"
          ],
          "name": "stdout"
        }
      ]
    },
    {
      "cell_type": "code",
      "metadata": {
        "colab": {
          "base_uri": "https://localhost:8080/"
        },
        "id": "-Maqlvg_O8zt",
        "outputId": "3bda1d45-1694-448e-86e2-915aaea35855"
      },
      "source": [
        "# padding\n",
        "max_sequence_len = max([len(x) for x in input_sequences])\n",
        "input_sequences = np.array(pad_sequences(input_sequences, maxlen = max_sequence_len, padding = 'pre'))\n",
        "print(input_sequences[1:5])\n",
        "print(max_sequence_len)"
      ],
      "execution_count": 31,
      "outputs": [
        {
          "output_type": "stream",
          "text": [
            "[[  0   0   0   0   0   0   0   0   0   0   0   0   0   0   0   0   0   0\n",
            "    0   0   0   0   0   0   0   0   0   0   0   0   0   0   0   0   0   0\n",
            "    0   0   0   0   0   0   0   0   0   0   0   0   0   0   0   0   0   0\n",
            "    0   0   0   0   0   0   0   0   0   0   0   0   0   0   0   0   0   0\n",
            "    0   0   0   0   0   0   0   0   0   0   0   0   0   0   0   0   0   0\n",
            "    0   0   0   0  70  64 108]\n",
            " [  0   0   0   0   0   0   0   0   0   0   0   0   0   0   0   0   0   0\n",
            "    0   0   0   0   0   0   0   0   0   0   0   0   0   0   0   0   0   0\n",
            "    0   0   0   0   0   0   0   0   0   0   0   0   0   0   0   0   0   0\n",
            "    0   0   0   0   0   0   0   0   0   0   0   0   0   0   0   0   0   0\n",
            "    0   0   0   0   0   0   0   0   0   0   0   0   0   0   0   0   0   0\n",
            "    0   0   0  70  64 108   1]\n",
            " [  0   0   0   0   0   0   0   0   0   0   0   0   0   0   0   0   0   0\n",
            "    0   0   0   0   0   0   0   0   0   0   0   0   0   0   0   0   0   0\n",
            "    0   0   0   0   0   0   0   0   0   0   0   0   0   0   0   0   0   0\n",
            "    0   0   0   0   0   0   0   0   0   0   0   0   0   0   0   0   0   0\n",
            "    0   0   0   0   0   0   0   0   0   0   0   0   0   0   0   0   0   0\n",
            "    0   0  70  64 108   1 109]\n",
            " [  0   0   0   0   0   0   0   0   0   0   0   0   0   0   0   0   0   0\n",
            "    0   0   0   0   0   0   0   0   0   0   0   0   0   0   0   0   0   0\n",
            "    0   0   0   0   0   0   0   0   0   0   0   0   0   0   0   0   0   0\n",
            "    0   0   0   0   0   0   0   0   0   0   0   0   0   0   0   0   0   0\n",
            "    0   0   0   0   0   0   0   0   0   0   0   0   0   0   0   0   0   0\n",
            "    0   0   0   0   0  17  33]]\n",
            "97\n"
          ],
          "name": "stdout"
        }
      ]
    },
    {
      "cell_type": "markdown",
      "metadata": {
        "id": "f8y2Em0tJtxp"
      },
      "source": [
        "## Model training"
      ]
    },
    {
      "cell_type": "code",
      "metadata": {
        "id": "a_zYjza7PCBP"
      },
      "source": [
        "# create predictors and label\n",
        "xs = input_sequences[:, :-1]\n",
        "labels = input_sequences[:, -1]\n",
        "ys = tf.keras.utils.to_categorical(labels, num_classes = total_words)"
      ],
      "execution_count": 12,
      "outputs": []
    },
    {
      "cell_type": "code",
      "metadata": {
        "colab": {
          "base_uri": "https://localhost:8080/"
        },
        "id": "9te0qstWPG1b",
        "outputId": "e233a2b4-c9a9-4d36-cdbb-1396bc9a1dd4"
      },
      "source": [
        "model = Sequential()\n",
        "model.add(Embedding(total_words, 100, input_length=max_sequence_len-1))\n",
        "model.add(Bidirectional(LSTM(150)))\n",
        "model.add(Dense(total_words, activation='softmax'))\n",
        "adam = Adam(lr=0.01)\n",
        "model.compile(loss='categorical_crossentropy', optimizer=adam, metrics=['accuracy'])\n",
        "history = model.fit(xs, ys, epochs=50, verbose=1)\n",
        "print(model)"
      ],
      "execution_count": 13,
      "outputs": [
        {
          "output_type": "stream",
          "text": [
            "Epoch 1/50\n",
            "192/192 [==============================] - 4s 20ms/step - loss: 7.1096 - accuracy: 0.0394\n",
            "Epoch 2/50\n",
            "192/192 [==============================] - 4s 20ms/step - loss: 6.1875 - accuracy: 0.0772\n",
            "Epoch 3/50\n",
            "192/192 [==============================] - 4s 20ms/step - loss: 5.1823 - accuracy: 0.1328\n",
            "Epoch 4/50\n",
            "192/192 [==============================] - 4s 20ms/step - loss: 3.9578 - accuracy: 0.2212\n",
            "Epoch 5/50\n",
            "192/192 [==============================] - 4s 20ms/step - loss: 2.6643 - accuracy: 0.3980\n",
            "Epoch 6/50\n",
            "192/192 [==============================] - 4s 20ms/step - loss: 1.7088 - accuracy: 0.5909\n",
            "Epoch 7/50\n",
            "192/192 [==============================] - 4s 20ms/step - loss: 1.1173 - accuracy: 0.7226\n",
            "Epoch 8/50\n",
            "192/192 [==============================] - 4s 20ms/step - loss: 0.7531 - accuracy: 0.8139\n",
            "Epoch 9/50\n",
            "192/192 [==============================] - 4s 20ms/step - loss: 0.5222 - accuracy: 0.8740\n",
            "Epoch 10/50\n",
            "192/192 [==============================] - 4s 20ms/step - loss: 0.3870 - accuracy: 0.9059\n",
            "Epoch 11/50\n",
            "192/192 [==============================] - 4s 20ms/step - loss: 0.3190 - accuracy: 0.9183\n",
            "Epoch 12/50\n",
            "192/192 [==============================] - 4s 20ms/step - loss: 0.2719 - accuracy: 0.9277\n",
            "Epoch 13/50\n",
            "192/192 [==============================] - 4s 20ms/step - loss: 0.2531 - accuracy: 0.9297\n",
            "Epoch 14/50\n",
            "192/192 [==============================] - 4s 20ms/step - loss: 0.2395 - accuracy: 0.9323\n",
            "Epoch 15/50\n",
            "192/192 [==============================] - 4s 20ms/step - loss: 0.2314 - accuracy: 0.9315\n",
            "Epoch 16/50\n",
            "192/192 [==============================] - 4s 20ms/step - loss: 0.2212 - accuracy: 0.9359\n",
            "Epoch 17/50\n",
            "192/192 [==============================] - 4s 20ms/step - loss: 0.2242 - accuracy: 0.9326\n",
            "Epoch 18/50\n",
            "192/192 [==============================] - 4s 20ms/step - loss: 0.2179 - accuracy: 0.9354\n",
            "Epoch 19/50\n",
            "192/192 [==============================] - 4s 20ms/step - loss: 0.2121 - accuracy: 0.9350\n",
            "Epoch 20/50\n",
            "192/192 [==============================] - 4s 20ms/step - loss: 0.2085 - accuracy: 0.9350\n",
            "Epoch 21/50\n",
            "192/192 [==============================] - 4s 20ms/step - loss: 0.2108 - accuracy: 0.9341\n",
            "Epoch 22/50\n",
            "192/192 [==============================] - 4s 20ms/step - loss: 0.2132 - accuracy: 0.9344\n",
            "Epoch 23/50\n",
            "192/192 [==============================] - 4s 20ms/step - loss: 0.3775 - accuracy: 0.8955\n",
            "Epoch 24/50\n",
            "192/192 [==============================] - 4s 20ms/step - loss: 3.9743 - accuracy: 0.2393\n",
            "Epoch 25/50\n",
            "192/192 [==============================] - 4s 20ms/step - loss: 2.5372 - accuracy: 0.4167\n",
            "Epoch 26/50\n",
            "192/192 [==============================] - 4s 20ms/step - loss: 1.2632 - accuracy: 0.6702\n",
            "Epoch 27/50\n",
            "192/192 [==============================] - 4s 20ms/step - loss: 0.7150 - accuracy: 0.8108\n",
            "Epoch 28/50\n",
            "192/192 [==============================] - 4s 20ms/step - loss: 0.4353 - accuracy: 0.8847\n",
            "Epoch 29/50\n",
            "192/192 [==============================] - 4s 20ms/step - loss: 0.3037 - accuracy: 0.9232\n",
            "Epoch 30/50\n",
            "192/192 [==============================] - 4s 20ms/step - loss: 0.2501 - accuracy: 0.9280\n",
            "Epoch 31/50\n",
            "192/192 [==============================] - 4s 20ms/step - loss: 0.2294 - accuracy: 0.9324\n",
            "Epoch 32/50\n",
            "192/192 [==============================] - 4s 20ms/step - loss: 0.2173 - accuracy: 0.9352\n",
            "Epoch 33/50\n",
            "192/192 [==============================] - 4s 20ms/step - loss: 0.2120 - accuracy: 0.9362\n",
            "Epoch 34/50\n",
            "192/192 [==============================] - 4s 20ms/step - loss: 0.2066 - accuracy: 0.9347\n",
            "Epoch 35/50\n",
            "192/192 [==============================] - 4s 20ms/step - loss: 0.2025 - accuracy: 0.9365\n",
            "Epoch 36/50\n",
            "192/192 [==============================] - 4s 20ms/step - loss: 0.2060 - accuracy: 0.9352\n",
            "Epoch 37/50\n",
            "192/192 [==============================] - 4s 20ms/step - loss: 0.2032 - accuracy: 0.9350\n",
            "Epoch 38/50\n",
            "192/192 [==============================] - 4s 20ms/step - loss: 0.1995 - accuracy: 0.9367\n",
            "Epoch 39/50\n",
            "192/192 [==============================] - 4s 20ms/step - loss: 0.2029 - accuracy: 0.9365\n",
            "Epoch 40/50\n",
            "192/192 [==============================] - 4s 20ms/step - loss: 0.2012 - accuracy: 0.9370\n",
            "Epoch 41/50\n",
            "192/192 [==============================] - 4s 20ms/step - loss: 0.2021 - accuracy: 0.9329\n",
            "Epoch 42/50\n",
            "192/192 [==============================] - 4s 20ms/step - loss: 0.1989 - accuracy: 0.9375\n",
            "Epoch 43/50\n",
            "192/192 [==============================] - 4s 20ms/step - loss: 0.2072 - accuracy: 0.9373\n",
            "Epoch 44/50\n",
            "192/192 [==============================] - 4s 20ms/step - loss: 0.2485 - accuracy: 0.9271\n",
            "Epoch 45/50\n",
            "192/192 [==============================] - 4s 20ms/step - loss: 2.6657 - accuracy: 0.5027\n",
            "Epoch 46/50\n",
            "192/192 [==============================] - 4s 20ms/step - loss: 3.7172 - accuracy: 0.3223\n",
            "Epoch 47/50\n",
            "192/192 [==============================] - 4s 20ms/step - loss: 1.6744 - accuracy: 0.5860\n",
            "Epoch 48/50\n",
            "192/192 [==============================] - 4s 20ms/step - loss: 0.9087 - accuracy: 0.7578\n",
            "Epoch 49/50\n",
            "192/192 [==============================] - 4s 20ms/step - loss: 0.5437 - accuracy: 0.8553\n",
            "Epoch 50/50\n",
            "192/192 [==============================] - 4s 20ms/step - loss: 0.3647 - accuracy: 0.9062\n",
            "<tensorflow.python.keras.engine.sequential.Sequential object at 0x7f50e6f99f60>\n"
          ],
          "name": "stdout"
        }
      ]
    },
    {
      "cell_type": "code",
      "metadata": {
        "id": "QFu9x507QWVf"
      },
      "source": [
        "import matplotlib.pyplot as plt\n",
        "\n",
        "\n",
        "def plot_graphs(history, string):\n",
        "  plt.plot(history.history[string])\n",
        "  plt.xlabel(\"Epochs\")\n",
        "  plt.ylabel(string)\n",
        "  plt.show()"
      ],
      "execution_count": 16,
      "outputs": []
    },
    {
      "cell_type": "code",
      "metadata": {
        "colab": {
          "base_uri": "https://localhost:8080/",
          "height": 279
        },
        "id": "qhQj3-gGQWzW",
        "outputId": "07afb13f-1610-454e-d0e3-36bad908d225"
      },
      "source": [
        "plot_graphs(history, 'accuracy')\n"
      ],
      "execution_count": 17,
      "outputs": [
        {
          "output_type": "display_data",
          "data": {
            "image/png": "[encoded data removed]",
            "text/plain": [
              "<Figure size 432x288 with 1 Axes>"
            ]
          },
          "metadata": {
            "tags": [],
            "needs_background": "light"
          }
        }
      ]
    },
    {
      "cell_type": "code",
      "metadata": {
        "colab": {
          "base_uri": "https://localhost:8080/"
        },
        "id": "pypyVzEaQgXS",
        "outputId": "587f4a34-e756-4bac-b73f-7d0a0aca1afa"
      },
      "source": [
        "seed_text = \"Dámy a pánové\"\n",
        "next_words = 100\n",
        "  \n",
        "for _ in range(next_words):\n",
        "\ttoken_list = tokenizer.texts_to_sequences([seed_text])[0]\n",
        "\ttoken_list = pad_sequences([token_list], maxlen=max_sequence_len-1, padding='pre')\n",
        "\tpredicted = model.predict_classes(token_list, verbose=0)\n",
        "\toutput_word = \"\"\n",
        "\tfor word, index in tokenizer.word_index.items():\n",
        "\t\tif index == predicted:\n",
        "\t\t\toutput_word = word\n",
        "\t\t\tbreak\n",
        "\tseed_text += \" \" + output_word\n",
        "print(seed_text)"
      ],
      "execution_count": 19,
      "outputs": [
        {
          "output_type": "stream",
          "text": [
            "Dámy a pánové je to donutí aby se začali chovat trochu s ohledem na ostatní čr a skutečně na to složité a třetí nakupovat připraven a určitě budeme potřeba nakupovat těchto léčivých přípravků do 25 zemí a pokud to uděláme samozřejmě potřeba nakupovat těchto a že to i když jsme dnes přijali společně důležité jsem tu situaci vážně a znovu vás žádám prosím vás pravidla zase samozřejmě nejvíce ohroženi a proto máme o ně samozřejmě velkou starost tak jsme rozhodli že vláda zakazuje taky dnes od půlnoci všem osobám přítomnost v maloobchodních prodejnách potravin v čase od 10 hodin do 12 hodin a\n"
          ],
          "name": "stdout"
        }
      ]
    }
  ]
}