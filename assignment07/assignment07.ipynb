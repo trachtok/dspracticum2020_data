{
  "nbformat": 4,
  "nbformat_minor": 0,
  "metadata": {
    "colab": {
      "name": "assignment07.ipynb",
      "provenance": [],
      "collapsed_sections": [],
      "include_colab_link": true
    },
    "kernelspec": {
      "name": "python3",
      "display_name": "Python 3"
    },
    "accelerator": "GPU"
  },
  "cells": [
    {
      "cell_type": "markdown",
      "metadata": {
        "id": "view-in-github",
        "colab_type": "text"
      },
      "source": [
        "<a href=\"https://colab.research.google.com/github/trachtok/dspracticum2020_data/blob/main/assignment07/assignment07.ipynb\" target=\"_parent\"><img src=\"https://colab.research.google.com/assets/colab-badge.svg\" alt=\"Open In Colab\"/></a>"
      ]
    },
    {
      "cell_type": "markdown",
      "metadata": {
        "id": "-87gpi8qGjdk"
      },
      "source": [
        "# Natural language processing - text generator\n",
        "*Kája Trachtová, Michaela Kecskésová, Martin Špilar, Dagmar Al Tukmachi*\n",
        "\n",
        "+ goal of this assignment is to generate text based on some initial text\n",
        "+ done using LSTM"
      ]
    },
    {
      "cell_type": "markdown",
      "metadata": {
        "id": "ERSwQxw6Hh50"
      },
      "source": [
        "## Load libraries and input data"
      ]
    },
    {
      "cell_type": "code",
      "metadata": {
        "id": "Ttwn9WARGjpA"
      },
      "source": [
        "import tensorflow as tf\n",
        "import numpy as np\n",
        "from tensorflow import keras\n",
        "from tensorflow.keras.preprocessing.text import Tokenizer\n",
        "from tensorflow.keras.preprocessing.sequence import pad_sequences\n",
        "from tensorflow.keras.layers import Embedding, LSTM, Dense, Bidirectional\n",
        "from tensorflow.keras.models import Sequential\n",
        "from tensorflow.keras.optimizers import Adam\n",
        "import re\n",
        "\n",
        "from google.colab import drive"
      ],
      "execution_count": 1,
      "outputs": []
    },
    {
      "cell_type": "code",
      "metadata": {
        "colab": {
          "base_uri": "https://localhost:8080/"
        },
        "id": "ik0815ZDGnsD",
        "outputId": "5fb706da-8f55-4429-ffb4-adf4429a12cc"
      },
      "source": [
        "drive.mount('/content/drive')"
      ],
      "execution_count": 2,
      "outputs": [
        {
          "output_type": "stream",
          "text": [
            "Mounted at /content/drive\n"
          ],
          "name": "stdout"
        }
      ]
    },
    {
      "cell_type": "code",
      "metadata": {
        "id": "FlK8jfdCNtNE"
      },
      "source": [
        "path1 = '/content/drive/My Drive/text_ML2.txt'\n",
        "path2 = '/content/drive/My Drive/Babis.txt'\n",
        "# !head \"/content/drive/My Drive/text_ML2.txt\""
      ],
      "execution_count": 3,
      "outputs": []
    },
    {
      "cell_type": "code",
      "metadata": {
        "colab": {
          "base_uri": "https://localhost:8080/"
        },
        "id": "LDc9V3M_OOOf",
        "outputId": "b9a181d1-9cce-4dce-f5cb-7ed118904dbe"
      },
      "source": [
        "# read input data\n",
        "file = open(path1, \"r\")\n",
        "data = file.read()\n",
        "file.close()\n",
        "print(data[:50])"
      ],
      "execution_count": 7,
      "outputs": [
        {
          "output_type": "stream",
          "text": [
            "Dobrý den, dámy a pánové. Vláda dnes schválila žád\n"
          ],
          "name": "stdout"
        }
      ]
    },
    {
      "cell_type": "code",
      "metadata": {
        "id": "jEilWDkdf6lD",
        "outputId": "02e4f087-76bf-4818-9876-ff94c987a2e0",
        "colab": {
          "base_uri": "https://localhost:8080/"
        }
      },
      "source": [
        "file = open(path2, \"r\")\n",
        "data_tmp = file.read()\n",
        "file.close()\n",
        "print(data_tmp[:50])"
      ],
      "execution_count": 9,
      "outputs": [
        {
          "output_type": "stream",
          "text": [
            "Takže dobrý den, dámy a pánové, vážení spoluobčané\n"
          ],
          "name": "stdout"
        }
      ]
    },
    {
      "cell_type": "code",
      "metadata": {
        "id": "blRZkda6gPB7"
      },
      "source": [
        "data += data_tmp"
      ],
      "execution_count": 10,
      "outputs": []
    },
    {
      "cell_type": "markdown",
      "metadata": {
        "id": "iErr4PqbJl0p"
      },
      "source": [
        "## Data preprocessing"
      ]
    },
    {
      "cell_type": "code",
      "metadata": {
        "colab": {
          "base_uri": "https://localhost:8080/"
        },
        "id": "_LXFz2bkOgb_",
        "outputId": "1481780c-4ea3-4687-e01a-94e035ddbe05"
      },
      "source": [
        "# if input text contains empty lines -> remove, also get rid of empty space after end of sequences\n",
        "data = data.replace('\\n', \"\").replace('. ', '.')\n",
        "# split text into array based on sentences\n",
        "m = re.search('\\.[A-Z]', data)\n",
        "while m:\n",
        "  position = m.span()[0]\n",
        "  data = data[:position] + \"&\" + data[position + 1 :]\n",
        "  m = re.search('\\.[A-Z]', data)\n",
        "corpus = data.lower().split('&')\n",
        "print(corpus[:5])"
      ],
      "execution_count": 12,
      "outputs": [
        {
          "output_type": "stream",
          "text": [
            "['dobrý den, dámy a pánové', 'vláda dnes schválila žádost poslanecké sněmovně o vyslovení souhlasu s prodloužením nouzového stavu v souvislosti s epidemií covid-19, a to do 3.prosince 2020', 'důvodem je samozřejmě nutnost prodloužit ta přijatá krizová opatření, bez kterých stávající pandemii nemůžeme zvládnout', 'takže sněmovna projedná naši žádost v pátek od 9 hodin a já pevně doufám, že opozice pochopí vážnost situace a tuto žádost schválí', 'je to, myslím si, velice důležité']\n"
          ],
          "name": "stdout"
        }
      ]
    },
    {
      "cell_type": "markdown",
      "metadata": {
        "id": "fVUkw6lfJn6r"
      },
      "source": [
        "## Tokenization"
      ]
    },
    {
      "cell_type": "code",
      "metadata": {
        "colab": {
          "base_uri": "https://localhost:8080/"
        },
        "id": "7TOnc_ArOs-o",
        "outputId": "de411b70-6150-4bac-e2b4-39327bcb6598"
      },
      "source": [
        "# tokenize words\n",
        "tokenizer = Tokenizer()\n",
        "tokenizer.fit_on_texts(corpus)\n",
        "total_words = len(tokenizer.word_index) + 1\n",
        "print(\"Total words: \", total_words)"
      ],
      "execution_count": 13,
      "outputs": [
        {
          "output_type": "stream",
          "text": [
            "Total words:  4178\n"
          ],
          "name": "stdout"
        }
      ]
    },
    {
      "cell_type": "code",
      "metadata": {
        "id": "0Z4EraDnO2q9",
        "colab": {
          "base_uri": "https://localhost:8080/"
        },
        "outputId": "5bbc295b-be0c-444c-9319-d099b9fff4d4"
      },
      "source": [
        "# text to integers\n",
        "input_sequences = []\n",
        "for line in corpus:\n",
        "  token_list = tokenizer.texts_to_sequences([line])[0]\n",
        "  for i in range(1, len(token_list)):\n",
        "    n_gram_sequence = token_list[:i + 1]\n",
        "    input_sequences.append(n_gram_sequence)\n",
        "print(input_sequences[1:10])"
      ],
      "execution_count": 14,
      "outputs": [
        {
          "output_type": "stream",
          "text": [
            "[[126, 109, 136], [126, 109, 136, 1], [126, 109, 136, 1, 137], [47, 32], [47, 32, 797], [47, 32, 797, 446], [47, 32, 797, 446, 979], [47, 32, 797, 446, 979, 405], [47, 32, 797, 446, 979, 405, 12]]\n"
          ],
          "name": "stdout"
        }
      ]
    },
    {
      "cell_type": "code",
      "metadata": {
        "colab": {
          "base_uri": "https://localhost:8080/"
        },
        "id": "-Maqlvg_O8zt",
        "outputId": "922df8be-5c24-416f-b179-98ab359eaac3"
      },
      "source": [
        "# padding\n",
        "max_sequence_len = max([len(x) for x in input_sequences])\n",
        "input_sequences = np.array(pad_sequences(input_sequences, maxlen = max_sequence_len, padding = 'pre'))\n",
        "print(input_sequences[1:5])\n",
        "print(max_sequence_len)"
      ],
      "execution_count": 15,
      "outputs": [
        {
          "output_type": "stream",
          "text": [
            "[[  0   0   0   0   0   0   0   0   0   0   0   0   0   0   0   0   0   0\n",
            "    0   0   0   0   0   0   0   0   0   0   0   0   0   0   0   0   0   0\n",
            "    0   0   0   0   0   0   0   0   0   0   0   0   0   0   0   0   0   0\n",
            "    0   0   0   0   0   0   0   0   0   0   0   0   0   0   0   0   0   0\n",
            "    0   0   0   0   0   0   0   0   0   0   0   0   0   0   0   0   0   0\n",
            "    0   0   0   0   0   0   0   0   0   0   0   0   0   0   0   0 126 109\n",
            "  136]\n",
            " [  0   0   0   0   0   0   0   0   0   0   0   0   0   0   0   0   0   0\n",
            "    0   0   0   0   0   0   0   0   0   0   0   0   0   0   0   0   0   0\n",
            "    0   0   0   0   0   0   0   0   0   0   0   0   0   0   0   0   0   0\n",
            "    0   0   0   0   0   0   0   0   0   0   0   0   0   0   0   0   0   0\n",
            "    0   0   0   0   0   0   0   0   0   0   0   0   0   0   0   0   0   0\n",
            "    0   0   0   0   0   0   0   0   0   0   0   0   0   0   0 126 109 136\n",
            "    1]\n",
            " [  0   0   0   0   0   0   0   0   0   0   0   0   0   0   0   0   0   0\n",
            "    0   0   0   0   0   0   0   0   0   0   0   0   0   0   0   0   0   0\n",
            "    0   0   0   0   0   0   0   0   0   0   0   0   0   0   0   0   0   0\n",
            "    0   0   0   0   0   0   0   0   0   0   0   0   0   0   0   0   0   0\n",
            "    0   0   0   0   0   0   0   0   0   0   0   0   0   0   0   0   0   0\n",
            "    0   0   0   0   0   0   0   0   0   0   0   0   0   0 126 109 136   1\n",
            "  137]\n",
            " [  0   0   0   0   0   0   0   0   0   0   0   0   0   0   0   0   0   0\n",
            "    0   0   0   0   0   0   0   0   0   0   0   0   0   0   0   0   0   0\n",
            "    0   0   0   0   0   0   0   0   0   0   0   0   0   0   0   0   0   0\n",
            "    0   0   0   0   0   0   0   0   0   0   0   0   0   0   0   0   0   0\n",
            "    0   0   0   0   0   0   0   0   0   0   0   0   0   0   0   0   0   0\n",
            "    0   0   0   0   0   0   0   0   0   0   0   0   0   0   0   0   0  47\n",
            "   32]]\n",
            "109\n"
          ],
          "name": "stdout"
        }
      ]
    },
    {
      "cell_type": "markdown",
      "metadata": {
        "id": "f8y2Em0tJtxp"
      },
      "source": [
        "## Model training"
      ]
    },
    {
      "cell_type": "code",
      "metadata": {
        "id": "a_zYjza7PCBP"
      },
      "source": [
        "# create predictors and label\n",
        "xs = input_sequences[:, :-1]\n",
        "labels = input_sequences[:, -1]\n",
        "ys = tf.keras.utils.to_categorical(labels, num_classes = total_words)"
      ],
      "execution_count": 16,
      "outputs": []
    },
    {
      "cell_type": "code",
      "metadata": {
        "colab": {
          "base_uri": "https://localhost:8080/"
        },
        "id": "9te0qstWPG1b",
        "outputId": "67639a23-e87d-4f27-d89e-0bf53b895224"
      },
      "source": [
        "model = Sequential()\n",
        "model.add(Embedding(total_words, 100, input_length=max_sequence_len-1))\n",
        "#model.add(Bidirectional(LSTM(128, return_sequences=True)))\n",
        "model.add(Bidirectional(LSTM(64)))\n",
        "model.add(Dense(total_words, activation='softmax'))\n",
        "adam = Adam(lr=0.01)\n",
        "model.compile(loss='categorical_crossentropy', optimizer=adam, metrics=['accuracy'])\n",
        "#earlystop = EarlyStopping(monitor='val_loss', min_delta=0, patience=5, verbose=0, mode='auto')\n",
        "history = model.fit(xs, ys, epochs=100, verbose=1)\n",
        "#print model.summary()\n",
        "print(model)"
      ],
      "execution_count": 17,
      "outputs": [
        {
          "output_type": "stream",
          "text": [
            "Epoch 1/100\n",
            "1062/1062 [==============================] - 17s 16ms/step - loss: 6.5156 - accuracy: 0.0830\n",
            "Epoch 2/100\n",
            "1062/1062 [==============================] - 17s 16ms/step - loss: 4.7184 - accuracy: 0.1977\n",
            "Epoch 3/100\n",
            "1062/1062 [==============================] - 18s 17ms/step - loss: 3.4107 - accuracy: 0.3339\n",
            "Epoch 4/100\n",
            "1062/1062 [==============================] - 18s 17ms/step - loss: 2.6002 - accuracy: 0.4445\n",
            "Epoch 5/100\n",
            "1062/1062 [==============================] - 18s 17ms/step - loss: 2.1479 - accuracy: 0.5190\n",
            "Epoch 6/100\n",
            "1062/1062 [==============================] - 17s 16ms/step - loss: 1.8467 - accuracy: 0.5755\n",
            "Epoch 7/100\n",
            "1062/1062 [==============================] - 17s 16ms/step - loss: 1.6610 - accuracy: 0.6120\n",
            "Epoch 8/100\n",
            "1062/1062 [==============================] - 17s 16ms/step - loss: 1.5340 - accuracy: 0.6359\n",
            "Epoch 9/100\n",
            "1062/1062 [==============================] - 17s 16ms/step - loss: 1.4068 - accuracy: 0.6584\n",
            "Epoch 10/100\n",
            "1062/1062 [==============================] - 17s 16ms/step - loss: 1.3314 - accuracy: 0.6736\n",
            "Epoch 11/100\n",
            "1062/1062 [==============================] - 17s 16ms/step - loss: 1.3120 - accuracy: 0.6767\n",
            "Epoch 12/100\n",
            "1062/1062 [==============================] - 18s 17ms/step - loss: 1.2628 - accuracy: 0.6861\n",
            "Epoch 13/100\n",
            "1062/1062 [==============================] - 18s 17ms/step - loss: 1.2182 - accuracy: 0.6932\n",
            "Epoch 14/100\n",
            "1062/1062 [==============================] - 17s 16ms/step - loss: 1.1766 - accuracy: 0.7050\n",
            "Epoch 15/100\n",
            "1062/1062 [==============================] - 18s 17ms/step - loss: 1.1619 - accuracy: 0.7055\n",
            "Epoch 16/100\n",
            "1062/1062 [==============================] - 18s 16ms/step - loss: 1.1400 - accuracy: 0.7122\n",
            "Epoch 17/100\n",
            "1062/1062 [==============================] - 18s 17ms/step - loss: 1.1564 - accuracy: 0.7063\n",
            "Epoch 18/100\n",
            "1062/1062 [==============================] - 18s 17ms/step - loss: 1.1930 - accuracy: 0.6976\n",
            "Epoch 19/100\n",
            "1062/1062 [==============================] - 17s 16ms/step - loss: 1.1594 - accuracy: 0.7061\n",
            "Epoch 20/100\n",
            "1062/1062 [==============================] - 17s 16ms/step - loss: 1.0896 - accuracy: 0.7230\n",
            "Epoch 21/100\n",
            "1062/1062 [==============================] - 17s 16ms/step - loss: 1.1069 - accuracy: 0.7180\n",
            "Epoch 22/100\n",
            "1062/1062 [==============================] - 18s 17ms/step - loss: 1.0929 - accuracy: 0.7201\n",
            "Epoch 23/100\n",
            "1062/1062 [==============================] - 18s 17ms/step - loss: 1.1543 - accuracy: 0.7103\n",
            "Epoch 24/100\n",
            "1062/1062 [==============================] - 18s 17ms/step - loss: 1.1501 - accuracy: 0.7088\n",
            "Epoch 25/100\n",
            "1062/1062 [==============================] - 17s 16ms/step - loss: 1.1187 - accuracy: 0.7146\n",
            "Epoch 26/100\n",
            "1062/1062 [==============================] - 17s 16ms/step - loss: 1.0864 - accuracy: 0.7213\n",
            "Epoch 27/100\n",
            "1062/1062 [==============================] - 17s 16ms/step - loss: 1.0867 - accuracy: 0.7192\n",
            "Epoch 28/100\n",
            "1062/1062 [==============================] - 17s 16ms/step - loss: 1.1042 - accuracy: 0.7162\n",
            "Epoch 29/100\n",
            "1062/1062 [==============================] - 17s 16ms/step - loss: 1.0794 - accuracy: 0.7226\n",
            "Epoch 30/100\n",
            "1062/1062 [==============================] - 17s 16ms/step - loss: 1.1079 - accuracy: 0.7163\n",
            "Epoch 31/100\n",
            "1062/1062 [==============================] - 17s 16ms/step - loss: 1.0349 - accuracy: 0.7338\n",
            "Epoch 32/100\n",
            "1062/1062 [==============================] - 17s 16ms/step - loss: 1.0484 - accuracy: 0.7281\n",
            "Epoch 33/100\n",
            "1062/1062 [==============================] - 17s 16ms/step - loss: 1.0674 - accuracy: 0.7240\n",
            "Epoch 34/100\n",
            "1062/1062 [==============================] - 17s 16ms/step - loss: 1.0482 - accuracy: 0.7298\n",
            "Epoch 35/100\n",
            "1062/1062 [==============================] - 17s 16ms/step - loss: 1.0448 - accuracy: 0.7326\n",
            "Epoch 36/100\n",
            "1062/1062 [==============================] - 17s 16ms/step - loss: 1.0460 - accuracy: 0.7327\n",
            "Epoch 37/100\n",
            "1062/1062 [==============================] - 17s 16ms/step - loss: 1.0846 - accuracy: 0.7234\n",
            "Epoch 38/100\n",
            "1062/1062 [==============================] - 18s 17ms/step - loss: 1.0541 - accuracy: 0.7291\n",
            "Epoch 39/100\n",
            "1062/1062 [==============================] - 18s 17ms/step - loss: 1.0695 - accuracy: 0.7254\n",
            "Epoch 40/100\n",
            "1062/1062 [==============================] - 17s 16ms/step - loss: 1.0408 - accuracy: 0.7326\n",
            "Epoch 41/100\n",
            "1062/1062 [==============================] - 17s 16ms/step - loss: 1.0575 - accuracy: 0.7250\n",
            "Epoch 42/100\n",
            "1062/1062 [==============================] - 17s 16ms/step - loss: 1.0554 - accuracy: 0.7277\n",
            "Epoch 43/100\n",
            "1062/1062 [==============================] - 17s 16ms/step - loss: 1.0030 - accuracy: 0.7428\n",
            "Epoch 44/100\n",
            "1062/1062 [==============================] - 18s 17ms/step - loss: 1.0059 - accuracy: 0.7409\n",
            "Epoch 45/100\n",
            "1062/1062 [==============================] - 17s 16ms/step - loss: 1.0246 - accuracy: 0.7357\n",
            "Epoch 46/100\n",
            "1062/1062 [==============================] - 17s 16ms/step - loss: 1.0496 - accuracy: 0.7300\n",
            "Epoch 47/100\n",
            "1062/1062 [==============================] - 17s 16ms/step - loss: 1.0358 - accuracy: 0.7355\n",
            "Epoch 48/100\n",
            "1062/1062 [==============================] - 17s 16ms/step - loss: 1.0242 - accuracy: 0.7347\n",
            "Epoch 49/100\n",
            "1062/1062 [==============================] - 17s 16ms/step - loss: 1.0515 - accuracy: 0.7283\n",
            "Epoch 50/100\n",
            "1062/1062 [==============================] - 17s 16ms/step - loss: 1.0320 - accuracy: 0.7369\n",
            "Epoch 51/100\n",
            "1062/1062 [==============================] - 17s 16ms/step - loss: 1.0259 - accuracy: 0.7375\n",
            "Epoch 52/100\n",
            "1062/1062 [==============================] - 18s 17ms/step - loss: 1.0709 - accuracy: 0.7249\n",
            "Epoch 53/100\n",
            "1062/1062 [==============================] - 18s 16ms/step - loss: 1.0342 - accuracy: 0.7323\n",
            "Epoch 54/100\n",
            "1062/1062 [==============================] - 17s 16ms/step - loss: 1.0030 - accuracy: 0.7423\n",
            "Epoch 55/100\n",
            "1062/1062 [==============================] - 17s 16ms/step - loss: 1.0292 - accuracy: 0.7348\n",
            "Epoch 56/100\n",
            "1062/1062 [==============================] - 17s 16ms/step - loss: 0.9931 - accuracy: 0.7440\n",
            "Epoch 57/100\n",
            "1062/1062 [==============================] - 17s 16ms/step - loss: 1.0078 - accuracy: 0.7392\n",
            "Epoch 58/100\n",
            "1062/1062 [==============================] - 17s 16ms/step - loss: 1.0554 - accuracy: 0.7307\n",
            "Epoch 59/100\n",
            "1062/1062 [==============================] - 17s 16ms/step - loss: 1.0045 - accuracy: 0.7432\n",
            "Epoch 60/100\n",
            "1062/1062 [==============================] - 17s 16ms/step - loss: 1.1329 - accuracy: 0.7197\n",
            "Epoch 61/100\n",
            "1062/1062 [==============================] - 17s 16ms/step - loss: 1.0750 - accuracy: 0.7296\n",
            "Epoch 62/100\n",
            "1062/1062 [==============================] - 17s 16ms/step - loss: 1.0405 - accuracy: 0.7335\n",
            "Epoch 63/100\n",
            "1062/1062 [==============================] - 17s 16ms/step - loss: 1.0067 - accuracy: 0.7414\n",
            "Epoch 64/100\n",
            "1062/1062 [==============================] - 18s 17ms/step - loss: 1.0208 - accuracy: 0.7367\n",
            "Epoch 65/100\n",
            "1062/1062 [==============================] - 17s 16ms/step - loss: 0.9961 - accuracy: 0.7426\n",
            "Epoch 66/100\n",
            "1062/1062 [==============================] - 18s 17ms/step - loss: 0.9771 - accuracy: 0.7485\n",
            "Epoch 67/100\n",
            "1062/1062 [==============================] - 17s 16ms/step - loss: 0.9810 - accuracy: 0.7454\n",
            "Epoch 68/100\n",
            "1062/1062 [==============================] - 17s 16ms/step - loss: 1.0021 - accuracy: 0.7415\n",
            "Epoch 69/100\n",
            "1062/1062 [==============================] - 18s 17ms/step - loss: 1.0612 - accuracy: 0.7329\n",
            "Epoch 70/100\n",
            "1062/1062 [==============================] - 17s 16ms/step - loss: 1.0223 - accuracy: 0.7388\n",
            "Epoch 71/100\n",
            "1062/1062 [==============================] - 18s 17ms/step - loss: 0.9740 - accuracy: 0.7495\n",
            "Epoch 72/100\n",
            "1062/1062 [==============================] - 17s 16ms/step - loss: 0.9762 - accuracy: 0.7519\n",
            "Epoch 73/100\n",
            "1062/1062 [==============================] - 17s 16ms/step - loss: 0.9964 - accuracy: 0.7445\n",
            "Epoch 74/100\n",
            "1062/1062 [==============================] - 17s 16ms/step - loss: 0.9993 - accuracy: 0.7429\n",
            "Epoch 75/100\n",
            "1062/1062 [==============================] - 18s 17ms/step - loss: 0.9736 - accuracy: 0.7471\n",
            "Epoch 76/100\n",
            "1062/1062 [==============================] - 17s 16ms/step - loss: 0.9727 - accuracy: 0.7489\n",
            "Epoch 77/100\n",
            "1062/1062 [==============================] - 17s 16ms/step - loss: 1.0210 - accuracy: 0.7406\n",
            "Epoch 78/100\n",
            "1062/1062 [==============================] - 17s 16ms/step - loss: 1.0205 - accuracy: 0.7413\n",
            "Epoch 79/100\n",
            "1062/1062 [==============================] - 17s 16ms/step - loss: 1.0148 - accuracy: 0.7414\n",
            "Epoch 80/100\n",
            "1062/1062 [==============================] - 18s 17ms/step - loss: 0.9962 - accuracy: 0.7463\n",
            "Epoch 81/100\n",
            "1062/1062 [==============================] - 18s 17ms/step - loss: 0.9900 - accuracy: 0.7449\n",
            "Epoch 82/100\n",
            "1062/1062 [==============================] - 17s 16ms/step - loss: 1.0563 - accuracy: 0.7348\n",
            "Epoch 83/100\n",
            "1062/1062 [==============================] - 17s 16ms/step - loss: 0.9671 - accuracy: 0.7508\n",
            "Epoch 84/100\n",
            "1062/1062 [==============================] - 17s 16ms/step - loss: 0.9962 - accuracy: 0.7444\n",
            "Epoch 85/100\n",
            "1062/1062 [==============================] - 17s 16ms/step - loss: 1.0107 - accuracy: 0.7412\n",
            "Epoch 86/100\n",
            "1062/1062 [==============================] - 18s 16ms/step - loss: 1.0181 - accuracy: 0.7385\n",
            "Epoch 87/100\n",
            "1062/1062 [==============================] - 18s 17ms/step - loss: 1.0038 - accuracy: 0.7417\n",
            "Epoch 88/100\n",
            "1062/1062 [==============================] - 18s 17ms/step - loss: 0.9839 - accuracy: 0.7478\n",
            "Epoch 89/100\n",
            "1062/1062 [==============================] - 19s 18ms/step - loss: 0.9731 - accuracy: 0.7466\n",
            "Epoch 90/100\n",
            "1062/1062 [==============================] - 18s 17ms/step - loss: 0.9608 - accuracy: 0.7545\n",
            "Epoch 91/100\n",
            "1062/1062 [==============================] - 18s 17ms/step - loss: 0.9578 - accuracy: 0.7517\n",
            "Epoch 92/100\n",
            "1062/1062 [==============================] - 18s 17ms/step - loss: 0.9665 - accuracy: 0.7537\n",
            "Epoch 93/100\n",
            "1062/1062 [==============================] - 18s 17ms/step - loss: 0.9708 - accuracy: 0.7509\n",
            "Epoch 94/100\n",
            "1062/1062 [==============================] - 18s 17ms/step - loss: 0.9750 - accuracy: 0.7502\n",
            "Epoch 95/100\n",
            "1062/1062 [==============================] - 18s 17ms/step - loss: 0.9597 - accuracy: 0.7521\n",
            "Epoch 96/100\n",
            "1062/1062 [==============================] - 18s 17ms/step - loss: 0.9737 - accuracy: 0.7509\n",
            "Epoch 97/100\n",
            "1062/1062 [==============================] - 18s 17ms/step - loss: 0.9721 - accuracy: 0.7501\n",
            "Epoch 98/100\n",
            "1062/1062 [==============================] - 18s 17ms/step - loss: 1.0120 - accuracy: 0.7414\n",
            "Epoch 99/100\n",
            "1062/1062 [==============================] - 18s 17ms/step - loss: 0.9913 - accuracy: 0.7457\n",
            "Epoch 100/100\n",
            "1062/1062 [==============================] - 18s 17ms/step - loss: 0.9700 - accuracy: 0.7540\n",
            "<tensorflow.python.keras.engine.sequential.Sequential object at 0x7fe4fb915da0>\n"
          ],
          "name": "stdout"
        }
      ]
    },
    {
      "cell_type": "code",
      "metadata": {
        "id": "QFu9x507QWVf"
      },
      "source": [
        "import matplotlib.pyplot as plt\n",
        "\n",
        "\n",
        "def plot_graphs(history, string):\n",
        "  plt.plot(history.history[string])\n",
        "  plt.xlabel(\"Epochs\")\n",
        "  plt.ylabel(string)\n",
        "  plt.show()"
      ],
      "execution_count": 18,
      "outputs": []
    },
    {
      "cell_type": "code",
      "metadata": {
        "colab": {
          "base_uri": "https://localhost:8080/",
          "height": 279
        },
        "id": "qhQj3-gGQWzW",
        "outputId": "b81e33f2-691c-4e0e-849f-44f906ebfc9e"
      },
      "source": [
        "plot_graphs(history, 'accuracy')\n"
      ],
      "execution_count": 19,
      "outputs": [
        {
          "output_type": "display_data",
          "data": {
            "image/png": "[encoded data removed]",
            "text/plain": [
              "<Figure size 432x288 with 1 Axes>"
            ]
          },
          "metadata": {
            "tags": [],
            "needs_background": "light"
          }
        }
      ]
    },
    {
      "cell_type": "code",
      "metadata": {
        "colab": {
          "base_uri": "https://localhost:8080/"
        },
        "id": "pypyVzEaQgXS",
        "outputId": "5ad18979-8426-4a58-8268-32f028203ecb"
      },
      "source": [
        "seed_text = \"Dámy a pánové\"\n",
        "next_words = 100\n",
        "  \n",
        "for _ in range(next_words):\n",
        "\ttoken_list = tokenizer.texts_to_sequences([seed_text])[0]\n",
        "\ttoken_list = pad_sequences([token_list], maxlen=max_sequence_len-1, padding='pre')\n",
        "\tpredicted = model.predict_classes(token_list, verbose=0)\n",
        "\toutput_word = \"\"\n",
        "\tfor word, index in tokenizer.word_index.items():\n",
        "\t\tif index == predicted:\n",
        "\t\t\toutput_word = word\n",
        "\t\t\tbreak\n",
        "\tseed_text += \" \" + output_word\n",
        "print(seed_text)"
      ],
      "execution_count": 21,
      "outputs": [
        {
          "output_type": "stream",
          "text": [
            "Dámy a pánové ten obrovský psychický školství složitá hodinu porovnatelných zásadní informace že různé předpovědi ale myslím že to zase není taková senzace aby se to vyzkouší bude znovu opatření lidí vlastně nový zákon distančního volný 1 1 respirátorů 1 milionu respirátorů ffp2 máme rukavice 14 5 milionu a tak dále podporovat dovolené a že vláda rozhodla o kompenzacích pro všechny cizince s výjimkou případů uvedených v bodu y i písmeno a až v tom manuálu že to tak bychom se měli vrátit do toho normálního režimu jaký jsme měli před tím než přišel vir závislá návrh využití prostředků z nouzového stavu do\n"
          ],
          "name": "stdout"
        }
      ]
    }
  ]
}