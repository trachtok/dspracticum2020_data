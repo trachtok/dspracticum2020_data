{
  "nbformat": 4,
  "nbformat_minor": 0,
  "metadata": {
    "colab": {
      "name": "assignment_03",
      "provenance": [],
      "collapsed_sections": [],
      "authorship_tag": "ABX9TyPyPBHlfa+BECXUNYrv9oHO",
      "include_colab_link": true
    },
    "kernelspec": {
      "name": "python3",
      "display_name": "Python 3"
    }
  },
  "cells": [
    {
      "cell_type": "markdown",
      "metadata": {
        "id": "view-in-github",
        "colab_type": "text"
      },
      "source": [
        "<a href=\"https://colab.research.google.com/github/trachtok/dspracticum2020_data/blob/main/assignment03/assignment_03.ipynb\" target=\"_parent\"><img src=\"https://colab.research.google.com/assets/colab-badge.svg\" alt=\"Open In Colab\"/></a>"
      ]
    },
    {
      "cell_type": "markdown",
      "metadata": {
        "id": "3TBY0Ngual09"
      },
      "source": [
        "# CNN model on Fashion MNIST dataset\n",
        "\n",
        "*Kája Trachtová, Michaela Kecskéková, Martin Špilar, Dagmar Al Tukmachi*\n",
        "\n",
        "+ goal of this assignment is to play with a CNN model on Fashion MNIST dataset to get the best accuracy\n",
        "+ calculate the *confusion matrix* and find out which pair of fashion items is the most often misclassified\n",
        "+ plot top 16 predictions that model is the most sure about but are actually wrong\n",
        "\n",
        "### Workflow of this notebook\n",
        "\n",
        "1. Load libraries\n",
        "2. Read input data\n",
        "3. Normalize data prior to model training\n",
        "4. Create CNN model\n",
        "5. Prediction on test data and model evaluation\n",
        "6. Plot misclassified images"
      ]
    },
    {
      "cell_type": "markdown",
      "metadata": {
        "id": "udaKJF75jVnX"
      },
      "source": [
        "## Load libraries"
      ]
    },
    {
      "cell_type": "code",
      "metadata": {
        "id": "pGFfqplwaoHv",
        "outputId": "b9202440-cf1f-4922-9f7e-f624c8a09f69",
        "colab": {
          "base_uri": "https://localhost:8080/",
          "height": 34
        }
      },
      "source": [
        "import matplotlib.pyplot as plt\n",
        "import numpy as np\n",
        "import pandas as pd\n",
        "\n",
        "import tensorflow as tf\n",
        "from tensorflow import keras\n",
        "from tensorflow.keras import layers\n",
        "\n",
        "from sklearn.metrics import confusion_matrix\n",
        "\n",
        "print(tf.__version__)"
      ],
      "execution_count": 13,
      "outputs": [
        {
          "output_type": "stream",
          "text": [
            "2.3.0\n"
          ],
          "name": "stdout"
        }
      ]
    },
    {
      "cell_type": "markdown",
      "metadata": {
        "id": "3EAOvLxrawKy"
      },
      "source": [
        "## Read input data"
      ]
    },
    {
      "cell_type": "code",
      "metadata": {
        "id": "m5tnFr6VawaE",
        "outputId": "d06b63bc-4991-43cb-f61f-0abb3867c95c",
        "colab": {
          "base_uri": "https://localhost:8080/",
          "height": 170
        }
      },
      "source": [
        "# load Fashion MNIST from Keras repo\n",
        "fashion_mnist = tf.keras.datasets.fashion_mnist\n",
        "(x_train, y_train), (x_test, y_test) = fashion_mnist.load_data()\n",
        "\n",
        "# add extra dimension (to have one channel)\n",
        "x_train = x_train[:,:,:,None]\n",
        "x_test = x_test[:,:,:,None]\n",
        "\n",
        "x_train.shape, y_train.shape, x_test.shape, y_test.shape"
      ],
      "execution_count": 3,
      "outputs": [
        {
          "output_type": "stream",
          "text": [
            "Downloading data from https://storage.googleapis.com/tensorflow/tf-keras-datasets/train-labels-idx1-ubyte.gz\n",
            "32768/29515 [=================================] - 0s 0us/step\n",
            "Downloading data from https://storage.googleapis.com/tensorflow/tf-keras-datasets/train-images-idx3-ubyte.gz\n",
            "26427392/26421880 [==============================] - 0s 0us/step\n",
            "Downloading data from https://storage.googleapis.com/tensorflow/tf-keras-datasets/t10k-labels-idx1-ubyte.gz\n",
            "8192/5148 [===============================================] - 0s 0us/step\n",
            "Downloading data from https://storage.googleapis.com/tensorflow/tf-keras-datasets/t10k-images-idx3-ubyte.gz\n",
            "4423680/4422102 [==============================] - 0s 0us/step\n"
          ],
          "name": "stdout"
        },
        {
          "output_type": "execute_result",
          "data": {
            "text/plain": [
              "((60000, 28, 28, 1), (60000,), (10000, 28, 28, 1), (10000,))"
            ]
          },
          "metadata": {
            "tags": []
          },
          "execution_count": 3
        }
      ]
    },
    {
      "cell_type": "code",
      "metadata": {
        "id": "9JorPIvSa4f7"
      },
      "source": [
        "clothes_labels = ['T-shirt/top', 'Trouser', 'Pullover', 'Dress', 'Coat',\n",
        "                  'Sandal', 'Shirt', 'Sneaker', 'Bag', 'Ankle boot']"
      ],
      "execution_count": 4,
      "outputs": []
    },
    {
      "cell_type": "markdown",
      "metadata": {
        "id": "SqXBWPM3cqr-"
      },
      "source": [
        "# Normalize data"
      ]
    },
    {
      "cell_type": "code",
      "metadata": {
        "id": "HWb5ifSCcr6v",
        "outputId": "3fdec870-5895-4521-a350-0359f63c502e",
        "colab": {
          "base_uri": "https://localhost:8080/",
          "height": 34
        }
      },
      "source": [
        "# Normalize values from [0, 255] to [0, 1] interval\n",
        "x_train = x_train / 255\n",
        "x_test = x_test / 255\n",
        "\n",
        "# creating 10 categories\n",
        "y_train = keras.utils.to_categorical(y_train, 10)\n",
        "y_test = keras.utils.to_categorical(y_test, 10)\n",
        "\n",
        "y_train.shape"
      ],
      "execution_count": 5,
      "outputs": [
        {
          "output_type": "execute_result",
          "data": {
            "text/plain": [
              "(60000, 10)"
            ]
          },
          "metadata": {
            "tags": []
          },
          "execution_count": 5
        }
      ]
    },
    {
      "cell_type": "markdown",
      "metadata": {
        "id": "NX0Gf4KWc438"
      },
      "source": [
        "# CNN model"
      ]
    },
    {
      "cell_type": "code",
      "metadata": {
        "id": "xWW7it8Uc7ze",
        "outputId": "6ca6854f-49b6-4f8c-f014-4045f3be9e57",
        "colab": {
          "base_uri": "https://localhost:8080/",
          "height": 425
        }
      },
      "source": [
        "cnn_model = keras.Sequential([\n",
        "      layers.Conv2D(input_shape=(28,28,1), filters = 32, kernel_size = (3,3), activation = 'relu'),\n",
        "      layers.Dropout(0.5),\n",
        "      layers.Conv2D(filters = 128, kernel_size = (3,3), activation = 'relu'),\n",
        "      layers.Conv2D(filters = 64, kernel_size = (3,3), activation = 'relu'),\n",
        "      layers.Flatten(),\n",
        "      layers.Dense(128, activation='relu'),\n",
        "      layers.Dropout(0.5),\n",
        "      layers.Dense(10, activation='softmax')\n",
        "])\n",
        "\n",
        "cnn_model.compile(loss='categorical_crossentropy', \n",
        "                  optimizer=tf.keras.optimizers.Adam(),\n",
        "                  metrics=['accuracy'])\n",
        "\n",
        "cnn_model.summary()"
      ],
      "execution_count": 35,
      "outputs": [
        {
          "output_type": "stream",
          "text": [
            "Model: \"sequential_1\"\n",
            "_________________________________________________________________\n",
            "Layer (type)                 Output Shape              Param #   \n",
            "=================================================================\n",
            "conv2d_3 (Conv2D)            (None, 26, 26, 32)        320       \n",
            "_________________________________________________________________\n",
            "dropout_1 (Dropout)          (None, 26, 26, 32)        0         \n",
            "_________________________________________________________________\n",
            "conv2d_4 (Conv2D)            (None, 24, 24, 128)       36992     \n",
            "_________________________________________________________________\n",
            "conv2d_5 (Conv2D)            (None, 22, 22, 64)        73792     \n",
            "_________________________________________________________________\n",
            "flatten_1 (Flatten)          (None, 30976)             0         \n",
            "_________________________________________________________________\n",
            "dense_2 (Dense)              (None, 128)               3965056   \n",
            "_________________________________________________________________\n",
            "dropout_2 (Dropout)          (None, 128)               0         \n",
            "_________________________________________________________________\n",
            "dense_3 (Dense)              (None, 10)                1290      \n",
            "=================================================================\n",
            "Total params: 4,077,450\n",
            "Trainable params: 4,077,450\n",
            "Non-trainable params: 0\n",
            "_________________________________________________________________\n"
          ],
          "name": "stdout"
        }
      ]
    },
    {
      "cell_type": "code",
      "metadata": {
        "id": "MX75EyQndKpb",
        "outputId": "61f06df1-886d-4ce3-e004-1726d9c5ba75",
        "colab": {
          "base_uri": "https://localhost:8080/",
          "height": 357
        }
      },
      "source": [
        "history = cnn_model.fit(\n",
        "  x_train, y_train,\n",
        "  batch_size = 256,\n",
        "  epochs = 10,\n",
        "  validation_data = (x_test, y_test),\n",
        "  verbose = 1\n",
        ")"
      ],
      "execution_count": 36,
      "outputs": [
        {
          "output_type": "stream",
          "text": [
            "Epoch 1/10\n",
            "235/235 [==============================] - 574s 2s/step - loss: 0.5972 - accuracy: 0.7880 - val_loss: 0.3590 - val_accuracy: 0.8665\n",
            "Epoch 2/10\n",
            "235/235 [==============================] - 562s 2s/step - loss: 0.3727 - accuracy: 0.8664 - val_loss: 0.3047 - val_accuracy: 0.8914\n",
            "Epoch 3/10\n",
            "235/235 [==============================] - 569s 2s/step - loss: 0.3118 - accuracy: 0.8869 - val_loss: 0.2659 - val_accuracy: 0.9046\n",
            "Epoch 4/10\n",
            "235/235 [==============================] - 566s 2s/step - loss: 0.2690 - accuracy: 0.9025 - val_loss: 0.2707 - val_accuracy: 0.8991\n",
            "Epoch 5/10\n",
            "235/235 [==============================] - 564s 2s/step - loss: 0.2419 - accuracy: 0.9122 - val_loss: 0.2500 - val_accuracy: 0.9082\n",
            "Epoch 6/10\n",
            "235/235 [==============================] - 564s 2s/step - loss: 0.2173 - accuracy: 0.9185 - val_loss: 0.2463 - val_accuracy: 0.9138\n",
            "Epoch 7/10\n",
            "235/235 [==============================] - 563s 2s/step - loss: 0.1990 - accuracy: 0.9265 - val_loss: 0.2339 - val_accuracy: 0.9205\n",
            "Epoch 8/10\n",
            "235/235 [==============================] - 561s 2s/step - loss: 0.1783 - accuracy: 0.9326 - val_loss: 0.2439 - val_accuracy: 0.9184\n",
            "Epoch 9/10\n",
            "235/235 [==============================] - 561s 2s/step - loss: 0.1614 - accuracy: 0.9397 - val_loss: 0.2386 - val_accuracy: 0.9218\n",
            "Epoch 10/10\n",
            "235/235 [==============================] - 562s 2s/step - loss: 0.1480 - accuracy: 0.9443 - val_loss: 0.2478 - val_accuracy: 0.9234\n"
          ],
          "name": "stdout"
        }
      ]
    },
    {
      "cell_type": "code",
      "metadata": {
        "id": "gJqUcK3AdPIX",
        "outputId": "0f8ba8f5-7283-44bf-f81d-1bc1d3ce89a3",
        "colab": {
          "base_uri": "https://localhost:8080/",
          "height": 283
        }
      },
      "source": [
        "def plot_loss(history, ylim=(0,1)):\n",
        "  plt.plot(history.history['accuracy'], label='accuracy')\n",
        "  plt.plot(history.history['val_accuracy'], label='val_accuracy')\n",
        "  plt.ylim(ylim)\n",
        "  plt.xlabel('Epoch')\n",
        "  plt.ylabel('Accuracy')\n",
        "  plt.legend()\n",
        "  plt.grid(True)\n",
        "  \n",
        "plot_loss(history, ylim=(0.7, 1))"
      ],
      "execution_count": 44,
      "outputs": [
        {
          "output_type": "display_data",
          "data": {
            "image/png": "[encoded data removed]",
            "text/plain": [
              "<Figure size 432x288 with 1 Axes>"
            ]
          },
          "metadata": {
            "tags": [],
            "needs_background": "light"
          }
        }
      ]
    },
    {
      "cell_type": "markdown",
      "metadata": {
        "id": "TI1RbPdUrEXp"
      },
      "source": [
        "## Prediction on test data and model evaluation\n",
        "\n",
        "+ make predictions on test data (10,000 images) using created model"
      ]
    },
    {
      "cell_type": "code",
      "metadata": {
        "id": "YySVtQL4IWFu"
      },
      "source": [
        "# make predictions on test data\n",
        "test_predictions = cnn_model.predict(x_test,batch_size=126)\n",
        "# create multidimensional array for predictions\n",
        "y_pred = keras.utils.to_categorical(np.argmax(test_predictions, axis=1), 10)"
      ],
      "execution_count": 39,
      "outputs": []
    },
    {
      "cell_type": "markdown",
      "metadata": {
        "id": "irwgnyfXt6tB"
      },
      "source": [
        "### Confusion matrix\n",
        "\n",
        "+ as the most often misclassified was the pair T-shirt/top VS Shirt"
      ]
    },
    {
      "cell_type": "code",
      "metadata": {
        "id": "GblKENDRt9Cw",
        "outputId": "d0df1d68-bf06-4533-e31a-420c6c7ae910",
        "colab": {
          "base_uri": "https://localhost:8080/",
          "height": 359
        }
      },
      "source": [
        "# confusion matrix converted into a data frame with row and column names \n",
        "column_names = clothes_labels\n",
        "row_names = clothes_labels\n",
        "\n",
        "cm = confusion_matrix(y_true = np.argmax(y_test, axis=1), y_pred = np.argmax(test_predictions, axis=1))\n",
        "cm = pd.DataFrame(cm, columns=column_names, index=row_names)\n",
        "\n",
        "# most misclassified = T-shirt/top vs. Shirt\n",
        "pd.DataFrame(cm)\n",
        "# with pd.option_context('display.max_rows', None, 'display.max_columns', None): print(cm)"
      ],
      "execution_count": 40,
      "outputs": [
        {
          "output_type": "execute_result",
          "data": {
            "text/html": [
              "<div>\n",
              "<style scoped>\n",
              "    .dataframe tbody tr th:only-of-type {\n",
              "        vertical-align: middle;\n",
              "    }\n",
              "\n",
              "    .dataframe tbody tr th {\n",
              "        vertical-align: top;\n",
              "    }\n",
              "\n",
              "    .dataframe thead th {\n",
              "        text-align: right;\n",
              "    }\n",
              "</style>\n",
              "<table border=\"1\" class=\"dataframe\">\n",
              "  <thead>\n",
              "    <tr style=\"text-align: right;\">\n",
              "      <th></th>\n",
              "      <th>T-shirt/top</th>\n",
              "      <th>Trouser</th>\n",
              "      <th>Pullover</th>\n",
              "      <th>Dress</th>\n",
              "      <th>Coat</th>\n",
              "      <th>Sandal</th>\n",
              "      <th>Shirt</th>\n",
              "      <th>Sneaker</th>\n",
              "      <th>Bag</th>\n",
              "      <th>Ankle boot</th>\n",
              "    </tr>\n",
              "  </thead>\n",
              "  <tbody>\n",
              "    <tr>\n",
              "      <th>T-shirt/top</th>\n",
              "      <td>910</td>\n",
              "      <td>2</td>\n",
              "      <td>15</td>\n",
              "      <td>11</td>\n",
              "      <td>1</td>\n",
              "      <td>0</td>\n",
              "      <td>55</td>\n",
              "      <td>0</td>\n",
              "      <td>6</td>\n",
              "      <td>0</td>\n",
              "    </tr>\n",
              "    <tr>\n",
              "      <th>Trouser</th>\n",
              "      <td>2</td>\n",
              "      <td>978</td>\n",
              "      <td>0</td>\n",
              "      <td>14</td>\n",
              "      <td>1</td>\n",
              "      <td>0</td>\n",
              "      <td>3</td>\n",
              "      <td>0</td>\n",
              "      <td>2</td>\n",
              "      <td>0</td>\n",
              "    </tr>\n",
              "    <tr>\n",
              "      <th>Pullover</th>\n",
              "      <td>18</td>\n",
              "      <td>0</td>\n",
              "      <td>905</td>\n",
              "      <td>10</td>\n",
              "      <td>31</td>\n",
              "      <td>0</td>\n",
              "      <td>36</td>\n",
              "      <td>0</td>\n",
              "      <td>0</td>\n",
              "      <td>0</td>\n",
              "    </tr>\n",
              "    <tr>\n",
              "      <th>Dress</th>\n",
              "      <td>9</td>\n",
              "      <td>0</td>\n",
              "      <td>14</td>\n",
              "      <td>945</td>\n",
              "      <td>14</td>\n",
              "      <td>0</td>\n",
              "      <td>18</td>\n",
              "      <td>0</td>\n",
              "      <td>0</td>\n",
              "      <td>0</td>\n",
              "    </tr>\n",
              "    <tr>\n",
              "      <th>Coat</th>\n",
              "      <td>1</td>\n",
              "      <td>1</td>\n",
              "      <td>60</td>\n",
              "      <td>37</td>\n",
              "      <td>849</td>\n",
              "      <td>0</td>\n",
              "      <td>51</td>\n",
              "      <td>0</td>\n",
              "      <td>1</td>\n",
              "      <td>0</td>\n",
              "    </tr>\n",
              "    <tr>\n",
              "      <th>Sandal</th>\n",
              "      <td>0</td>\n",
              "      <td>0</td>\n",
              "      <td>0</td>\n",
              "      <td>0</td>\n",
              "      <td>0</td>\n",
              "      <td>987</td>\n",
              "      <td>0</td>\n",
              "      <td>7</td>\n",
              "      <td>0</td>\n",
              "      <td>6</td>\n",
              "    </tr>\n",
              "    <tr>\n",
              "      <th>Shirt</th>\n",
              "      <td>118</td>\n",
              "      <td>1</td>\n",
              "      <td>61</td>\n",
              "      <td>26</td>\n",
              "      <td>50</td>\n",
              "      <td>0</td>\n",
              "      <td>737</td>\n",
              "      <td>0</td>\n",
              "      <td>7</td>\n",
              "      <td>0</td>\n",
              "    </tr>\n",
              "    <tr>\n",
              "      <th>Sneaker</th>\n",
              "      <td>0</td>\n",
              "      <td>0</td>\n",
              "      <td>0</td>\n",
              "      <td>0</td>\n",
              "      <td>0</td>\n",
              "      <td>8</td>\n",
              "      <td>0</td>\n",
              "      <td>972</td>\n",
              "      <td>0</td>\n",
              "      <td>20</td>\n",
              "    </tr>\n",
              "    <tr>\n",
              "      <th>Bag</th>\n",
              "      <td>1</td>\n",
              "      <td>1</td>\n",
              "      <td>2</td>\n",
              "      <td>5</td>\n",
              "      <td>1</td>\n",
              "      <td>1</td>\n",
              "      <td>1</td>\n",
              "      <td>2</td>\n",
              "      <td>986</td>\n",
              "      <td>0</td>\n",
              "    </tr>\n",
              "    <tr>\n",
              "      <th>Ankle boot</th>\n",
              "      <td>0</td>\n",
              "      <td>0</td>\n",
              "      <td>0</td>\n",
              "      <td>0</td>\n",
              "      <td>0</td>\n",
              "      <td>5</td>\n",
              "      <td>1</td>\n",
              "      <td>29</td>\n",
              "      <td>0</td>\n",
              "      <td>965</td>\n",
              "    </tr>\n",
              "  </tbody>\n",
              "</table>\n",
              "</div>"
            ],
            "text/plain": [
              "             T-shirt/top  Trouser  Pullover  ...  Sneaker  Bag  Ankle boot\n",
              "T-shirt/top          910        2        15  ...        0    6           0\n",
              "Trouser                2      978         0  ...        0    2           0\n",
              "Pullover              18        0       905  ...        0    0           0\n",
              "Dress                  9        0        14  ...        0    0           0\n",
              "Coat                   1        1        60  ...        0    1           0\n",
              "Sandal                 0        0         0  ...        7    0           6\n",
              "Shirt                118        1        61  ...        0    7           0\n",
              "Sneaker                0        0         0  ...      972    0          20\n",
              "Bag                    1        1         2  ...        2  986           0\n",
              "Ankle boot             0        0         0  ...       29    0         965\n",
              "\n",
              "[10 rows x 10 columns]"
            ]
          },
          "metadata": {
            "tags": []
          },
          "execution_count": 40
        }
      ]
    },
    {
      "cell_type": "markdown",
      "metadata": {
        "id": "pd9pCu4mt9i3"
      },
      "source": [
        "## Plot misclassified images\n",
        "\n",
        "+ extract top16 images where model was the most sure of label but were actually misclassified\n",
        "\n"
      ]
    },
    {
      "cell_type": "code",
      "metadata": {
        "id": "8hkCuWs0rVJx"
      },
      "source": [
        "# get matrix of differences between predictions and real labels\n",
        "difference = test_predictions - y_test\n",
        "# get index of top16 misclassified images that model was the most sure about but were actually incorrect\n",
        "most_false_idx = pd.DataFrame(np.max(difference, axis = 1), index=[x for x in range(len(difference))]).sort_values(by = 0, ascending = False)[:16].index"
      ],
      "execution_count": 41,
      "outputs": []
    },
    {
      "cell_type": "code",
      "metadata": {
        "id": "uYQceoLKRDA-",
        "outputId": "cc899af9-4bae-4282-a809-164dc07021eb",
        "colab": {
          "base_uri": "https://localhost:8080/",
          "height": 51
        }
      },
      "source": [
        "misclassified = len([i for i, x in enumerate((y_test == y_pred).all(axis=1)) if x == False])\n",
        "print(\"Number of misclassified images: \", misclassified)\n",
        "print(\"Accuracy on testing data: \",str(100-(misclassified/len(y_test)*100)))"
      ],
      "execution_count": 65,
      "outputs": [
        {
          "output_type": "stream",
          "text": [
            "Number of misclassified images:  766\n",
            "Accuracy on testing data:  92.34\n"
          ],
          "name": "stdout"
        }
      ]
    },
    {
      "cell_type": "code",
      "metadata": {
        "id": "ql5tRpfvs-e5",
        "outputId": "90bdb605-8a1a-4219-8aa4-2e0681cd9dc6",
        "colab": {
          "base_uri": "https://localhost:8080/",
          "height": 536
        }
      },
      "source": [
        "# get original train/test data for plotting images\n",
        "(xplt_train, yplt_train), (xplt_test, yplt_test) = fashion_mnist.load_data()\n",
        "\n",
        "def plot_image(x, title = \"\"):\n",
        "  plt.xticks([])\n",
        "  plt.yticks([])\n",
        "  plt.grid(False)\n",
        "  plt.imshow(x, cmap=plt.cm.binary)\n",
        "  plt.xlabel(title)\n",
        "\n",
        "plt.figure(figsize=(8,9))\n",
        "for i in range(16):\n",
        "  plt.subplot(4,4, i + 1)\n",
        "  plot_image(xplt_test[most_false_idx[i]].squeeze(), \n",
        "             \"LABEL:\"+clothes_labels[yplt_test[most_false_idx[i]]]+\"\\n\"+\"PRED:\"+clothes_labels[np.argmax(y_pred[most_false_idx],axis=1)[i]])"
      ],
      "execution_count": 64,
      "outputs": [
        {
          "output_type": "display_data",
          "data": {
            "image/png": "[encoded data removed]",
            "text/plain": [
              "<Figure size 576x648 with 16 Axes>"
            ]
          },
          "metadata": {
            "tags": []
          }
        }
      ]
    },
    {
      "cell_type": "markdown",
      "metadata": {
        "id": "T4tTuxpvzsBT"
      },
      "source": [
        "+ BONUS: extract top16 misclassified images where model put the smallest probability to actually correct labels, it is interesting to compare to previous misclassified images and see why model was not able to classify them correctly\n",
        "+ these 16 images are basically the most weird ones where model was absolutely not able to classify them with correct label\n",
        "+ some of the images are shared with top16 misclassified images where model was the most sure in incorrect label (and in this case also put the smallest probability to correct label)"
      ]
    },
    {
      "cell_type": "code",
      "metadata": {
        "id": "uMUudwvczdTO",
        "outputId": "ca21c784-488a-438e-b9ab-1f4dc71504d2",
        "colab": {
          "base_uri": "https://localhost:8080/",
          "height": 536
        }
      },
      "source": [
        "# get index of top16 misclassified images where model was least sure on the actually correct label\n",
        "least_false_idx = pd.DataFrame(np.min(difference, axis = 1), index=[x for x in range(len(difference))]).sort_values(by = 0)[:16].index \n",
        "\n",
        "plt.figure(figsize=(8,9))\n",
        "for i in range(16):\n",
        "  plt.subplot(4,4, i + 1)\n",
        "  plot_image(xplt_test[least_false_idx[i]].squeeze(), \n",
        "             \"LABEL:\"+clothes_labels[yplt_test[least_false_idx[i]]]+\"\\n\"+\"PRED:\"+clothes_labels[np.argmax(y_pred[least_false_idx],axis=1)[i]])"
      ],
      "execution_count": 66,
      "outputs": [
        {
          "output_type": "display_data",
          "data": {
            "image/png": "[encoded data removed]",
            "text/plain": [
              "<Figure size 576x648 with 16 Axes>"
            ]
          },
          "metadata": {
            "tags": []
          }
        }
      ]
    },
    {
      "cell_type": "code",
      "metadata": {
        "id": "-vz5WbgRKOSe"
      },
      "source": [
        "# NOT USED\n",
        "# values_false_pred = list(map(max, test_predictions[false_idx]))\n",
        "\n",
        "# indeces of items that were misclassified\n",
        "# false_idx = [i for i, x in enumerate((y_test == y_pred).all(axis=1)) if x == False]"
      ],
      "execution_count": 142,
      "outputs": []
    }
  ]
}